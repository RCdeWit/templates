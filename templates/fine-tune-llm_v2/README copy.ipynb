{
 "cells": [
  {
   "cell_type": "markdown",
   "metadata": {},
   "source": [
    "# Fine-tuning Open-weight LLMs with Anyscale\n",
    "\n",
    "**⏱️ Time to complete**: N/A\n",
    "\n",
    "Fine-tuning LLMs is an easy and cost-effective way to tailor their capabilities towards niche applications with high-acccuracy. While Ray and RayTrain offer a generic primitives for building such workloads, at Anyscale we have created a higher-level library called _LLMForge_ that builds on top of Ray and other open-source libraries to provide an easy to work with interface for fine-tuning and training LLMs. \n",
    "\n",
    "This template is a guide on how to use LLMForge for fine-tuning LLMs.\n"
   ]
  },
  {
   "cell_type": "markdown",
   "metadata": {},
   "source": [
    "### Table of content"
   ]
  },
  {
   "cell_type": "markdown",
   "metadata": {},
   "source": [
    "## What is LLMForge?\n",
    "\n",
    "LLMForge is a library that implements a collection of design patterns that use Ray, RayTrain, and RayData in combination with other open-source libraries (e.g. Deepspeed, 🤗 Huggingface accelerate, transformers, etc.) to provide an easy to use library for fine-tuning LLMs. In addition to these design patterns, it offers tight integrations with the Anyscale platform, such as model registery, streamlined deployment, observability, Anyscale's job submission, etc."
   ]
  },
  {
   "cell_type": "markdown",
   "metadata": {},
   "source": [
    "### Configurations\n",
    "\n",
    "LLMForge workloads are specified using YAML configurations ([documentation here](https://docs.anyscale.com/reference/finetuning-config-api)). The library offers two main modes: `auto` and `custom`.\n",
    "\n",
    "#### Auto Mode\n",
    "Similar to OpenAI's finetuning experience, the `auto` mode provides a minimal and efficient setup. It allows you to quickly start a finetuning job by setting just a few parameters (`model_id` and `train_path`). All other settings are optional and will be automatically selected based on dataset statistics and predefined configurations.\n",
    "\n",
    "#### Custom Mode\n",
    "The `custom` mode offers more flexibility and control over the finetuning process, allowing for advanced optimizations and customizations. You need to provide more configurations to setup this mode (e.g. prompt format, hardware, batch size, etc.)\n",
    "\n",
    "Here's a comparison of the two modes:\n",
    "\n",
    "| Feature | Auto Mode | Custom Mode |\n",
    "|---------|-----------|-------------|\n",
    "| Ideal For | Prototyping what's possible, focusing on dataset cleaning, finetuning, and evaluation pipeline | Optimizing model quality by controlling more parameters, hardware control |\n",
    "| Command | `llmforge anyscale finetune config.yaml --auto` | `llmforge anyscale finetune config.yaml` |\n",
    "| Model Support | Popular chat-format models (e.g., `meta-llama/Meta-Llama-3-8B-Instruct`) | Any HuggingFace model, any format (e.g., `meta-llama/Meta-Llama-Guard-2-8B`) |\n",
    "| Task Support | Instruction tuning for multi-turn chat | CausalLM, instruction tuning, classification, preference tuning |\n",
    "| Data Format | Fixed for chat-style data | Flexible, supports various prompt formats |\n",
    "| Hardware | Automatically selected (limited by availability) | User-configurable |\n",
    "| Fine-tuning type| Only supports LoRA (Rank-8, all linear layers) | User-defined LoRA and Full-parameter |\n",
    "\n",
    "Choose the mode that best fits your project requirements and level of customization needed."
   ]
  },
  {
   "cell_type": "markdown",
   "metadata": {},
   "source": [
    "### Models Supported in Auto Mode\n",
    "\n",
    "Auto mode supports a select list of models, with a fixed cluster type of 8xA100-80G. Here are the supported models and their configurations:\n",
    "\n",
    "| model_id | Supported context lengths |\n",
    "|-------|-----------------|\n",
    "| meta-llama/Meta-Llama-3-8B-Instruct |  512, 1024, 2048, 4096 |\n",
    "| meta-llama/Meta-Llama-3-70B-Instruct  | 512, 1024, 2048, 4096 |\n",
    "| mistralai/Mistral-7B-Instruct-v0.2 | 512, 1024, 2048, 4096 |\n",
    "\n",
    "Note: \n",
    "- Cluster type for all models: 8xA100-80G\n",
    "\n"
   ]
  },
  {
   "cell_type": "markdown",
   "metadata": {},
   "source": [
    "## Highlight of features\n",
    "\n",
    "* Support both Full parameter and LoRA\n",
    "*‌ Flash attention v2, full deepspeed support (zero-DDP sharding)\n",
    "* Gradient checkopinting, mixed precision training, etc.\n",
    "* Unified chat data format with flexible prompt format support\n",
    "* Flexible task support: CasualLM, Instruction tuning, Classification, Preference tuning\n",
    "* Support for multi-stage continuous fine-tuning\n",
    "* Support for context length extension\n",
    "* Customization of hyper-parameters\n",
    "* Anyscale integrations: Model registery, Monitoring and observability, Compatible with Anyscale jobs."
   ]
  },
  {
   "cell_type": "markdown",
   "metadata": {},
   "source": [
    "## Examples\n",
    "\n",
    "### Auto\n",
    "\n",
    "```bash\n",
    "llmforge anyscale finetune training_configs/auto/llama-3-8b/simple.yaml --auto\n",
    "```\n",
    "\n",
    "Config is simple:\n",
    "\n",
    "```yaml\n",
    "model_id: meta-llama/Meta-Llama-3-8B-Instruct\n",
    "train_path: s3://...\n",
    "valid_path: s3://...\n",
    "logger:\n",
    "    wandb:\n",
    "        project: ...\n",
    "        entity: ...        \n",
    "```"
   ]
  },
  {
   "cell_type": "markdown",
   "metadata": {},
   "source": [
    "### Custom\n",
    "\n",
    "```bash\n",
    "llmforge anyscale finetune training_configs/custom/llama-3-8b/lora.yaml \n",
    "```\n",
    "\n",
    "```yaml\n",
    "model_id: meta-llama/Meta-Llama-3-8B-Instruct\n",
    "train_path: s3://...\n",
    "valid_path: s3://...\n",
    "num_epochs: 3\n",
    "learning_rate: 1e-4\n",
    "logger:\n",
    "    wandb:\n",
    "        project: ...\n",
    "        entity: ...\n",
    "```"
   ]
  },
  {
   "cell_type": "markdown",
   "metadata": {},
   "source": [
    "More examples can be found in `./training_configs`. For specific features read [cookbooks](#cookbooks) and [end-to-end examples](#end-to-end-examples)."
   ]
  },
  {
   "cell_type": "markdown",
   "metadata": {},
   "source": [
    "## Cookbooks\n",
    "\n",
    "After you are with the above, you can find recipies that extend the functionality of this template under the cookbooks folder:\n",
    "\n",
    "* Serve fine-tuned models\n",
    "* Setup WandB\n",
    "* [Bring your own data](cookbooks/bring_your_own_data/README.md): Everything you need to know about using custom datasets for fine-tuning.\n",
    "* [Bring any huggingface model and prompt format](cookbooks/bring_any_hf_model/README.md): Learn how you can finetune any 🤗Hugging Face model with a custom prompt format (chat template). \n",
    "* Deepdive on Auto mode\n",
    "* Deepdive on custom mode\n",
    "* [LoRA vs. full-parameter training](cookbooks/continue_from_checkpoint/README.md): Learn the differences between LoRA and full-parameter training and how to configure both.\n",
    "* [Continue fine-tuning from a previous checkpoint](cookbooks/continue_from_checkpoint/README.md): A detailed guide on how you can use a previous checkpoint for another round of fine-tuning.\n",
    "* [Modifying hyperparameters](cookbooks/modifying_hyperparameters/README.md): A brief guide on customization of your fine-tuning job.\n",
    "* [Optimizing Cost and Performance for Finetuning](cookbooks/optimize_cost/README.md): A detailed guide on default performance-related parameters and how you can optimize throughput for training on your own data.\n",
    "* [Run finetuning as Anyscale Job](cookbooks/launch_as_anyscale_job/README.md): A detailed guide on how to submit a finetuning workflow as a job (outside the context of workspaces.)"
   ]
  },
  {
   "cell_type": "markdown",
   "metadata": {},
   "source": [
    "## End-to-end Examples\n",
    "\n",
    "Here is a list of end-to-end examples that involve more steps such as data preprocessing, evaluation, etc but with a main focus on improving model quality via fine-tuning.\n",
    "\n",
    "* [Fine-tuning for Function calling on custom data](end-to-end-examples/fine-tune-function-calling/README.md)"
   ]
  },
  {
   "cell_type": "markdown",
   "metadata": {},
   "source": [
    "## LLMForge Versions\n",
    "\n",
    "Here is a list of LLMForge image versions:\n",
    "\n",
    "| version | image_uri |\n",
    "|---------|-----------|\n",
    "| `0.5.2`  | `localhost:5555/anyscale/llm-forge:0.5.2` |\n",
    "| `0.5.1`  | `localhost:5555/anyscale/llm-forge:0.5.1` |\n",
    "| `0.5.0.1`  | `localhost:5555/anyscale/llm-forge:0.5.0.1-ngmM6BdcEdhWo0nvedP7janPLKS9Cdz2` |"
   ]
  }
 ],
 "metadata": {
  "kernelspec": {
   "display_name": "Python 3 (ipykernel)",
   "language": "python",
   "name": "python3"
  },
  "language_info": {
   "codemirror_mode": {
    "name": "ipython",
    "version": 3
   },
   "file_extension": ".py",
   "mimetype": "text/x-python",
   "name": "python",
   "nbconvert_exporter": "python",
   "pygments_lexer": "ipython3",
   "version": "3.11.9"
  }
 },
 "nbformat": 4,
 "nbformat_minor": 4
}
