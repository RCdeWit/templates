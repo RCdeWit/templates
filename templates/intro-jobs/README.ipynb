{
 "cells": [
  {
   "cell_type": "markdown",
   "metadata": {},
   "source": [
    "# Introduction to Jobs\n",
    "\n",
    "This tutorial shows you how to:\n",
    "1. Run a Ray app non-interactively in Anyscale as an \"Anyscale Job\".\n",
    "2. Configure and debug Anyscale Jobs.\n",
    "\n",
    "**Note**: This tutorial is run within a workspace. Please overview the `Introduction to Workspaces` template first before this tutorial.\n",
    "\n",
    "## Key features of Anyscale Jobs\n",
    "\n",
    "Typically, we recommend running batch Ray apps as Anyscale Jobs when moving to production. Like workspaces, Anyscale Jobs run with their own Ray cluster, so you can run the exact same Ray program in a workspace as a Job too.\n",
    "\n",
    "Key features of Anyscale Jobs:\n",
    "- Programmatic submission API\n",
    "- Automated failure handling\n",
    "- Automated email alerting\n",
    "- Record and persist outputs such as logs\n",
    "\n",
    "\n",
    "**Note**: Ray also has an internal concept of a \"Ray job\", which is created when running a Ray app. Anyscale Jobs, Workspaces, and Services all launch Ray jobs internally."
   ]
  },
  {
   "cell_type": "markdown",
   "metadata": {},
   "source": [
    "## Walkthrough\n",
    "\n",
    "First, let's run the following app first interactively in the current workspace.\n",
    "\n",
    "This template includes a simple processing job in **./main.py** that runs a few Ray tasks. Run the cell below in the workspace, you should see it print the result after a few seconds."
   ]
  },
  {
   "cell_type": "code",
   "execution_count": null,
   "metadata": {},
   "outputs": [],
   "source": [
    "# First install the necessary `emoji` dependency, then run the Ray app\n",
    "!pip install emoji; python main.py"
   ]
  },
  {
   "cell_type": "markdown",
   "metadata": {},
   "source": [
    "Next, let's try submitting the app to Anyscale Jobs. Within a workspace, you can use the \"ray job submit\" (submits to Anyscale Jobs) functionality for this.\n",
    "\n",
    "The following cell should also run to completion within a few minutes and print the same result. Note however that the Ray app was not run within the workspace cluster (you can check the ``Ray Dashboard`` to verify). It was submitted to Anyscale for execution on a new Ray cluster."
   ]
  },
  {
   "cell_type": "code",
   "execution_count": null,
   "metadata": {},
   "outputs": [],
   "source": [
    "# Second, submit the Ray app to Anyscale Jobs for execution on a new Ray cluster.\n",
    "# TODO(ekl) the alias is not working right now\n",
    "!ray job submit --follow -- main.py"
   ]
  },
  {
   "cell_type": "markdown",
   "metadata": {},
   "source": [
    "### Job UI Overview\n",
    "\n",
    "You can view active and historical job runs at (`Home > Jobs`). Click into the job run created by the above cell to inspect its results.\n",
    "\n",
    "You should see the job state and its output on the overview page.\n",
    "\n",
    "**TODO IMAGE**:\n",
    "<img src=\"assets/jobs-overview.png\" height=400px>"
   ]
  },
  {
   "cell_type": "markdown",
   "metadata": {},
   "source": [
    "## Submitting a Job programmatically\n",
    "\n",
    "In the above section, you submitted a Job from a workspace. By default, Jobs submitted from workspaces inherit the dependencies and compute config of the workspace.\n",
    "\n",
    "You can also submit jobs from other machines, using the Anyscale CLI. \n",
    "\n",
    "Copy ``main.py`` to an empty folder on your **laptop**, and then run the following on your **laptop** to try this out:\n",
    "\n",
    "```bash\n",
    "# Make sure we have anyscale CLI installed.\n",
    "$ pip install -U anyscale\n",
    "\n",
    "# Note: will package all contents of your current working dir into the job deps.\n",
    "$ anyscale job submit --wait -- main.py\n",
    "```\n",
    "\n",
    "Jobs submitted externally will run with the Anyscale default compute config and dependencies. To override these settings, use the ``--compute-config`` and ``--image`` flags [TODO(ekl) this needs to be implemented, similar to Services CI/CD]."
   ]
  },
  {
   "cell_type": "markdown",
   "metadata": {},
   "source": [
    "This concludes the Anyscale Jobs tutorial. To learn more about how to configure Anyscale Jobs, see the TODO(documentation link) as well as ``anyscale job --help``."
   ]
  },
  {
   "cell_type": "markdown",
   "metadata": {},
   "source": [
    "## Summary\n",
    "\n",
    "This notebook:\n",
    "- Ran a simple Ray app in the local workspace.\n",
    "- Submitted the same Ray app as an Anyscale Job.\n",
    "- Walked through how to submit the same Job externally from a different machine."
   ]
  }
 ],
 "metadata": {
  "language_info": {
   "name": "python"
  },
  "orig_nbformat": 4
 },
 "nbformat": 4,
 "nbformat_minor": 2
}
