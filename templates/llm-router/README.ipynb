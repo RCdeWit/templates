{
 "cells": [
  {
   "cell_type": "code",
   "execution_count": 1,
   "metadata": {},
   "outputs": [],
   "source": [
    "%load_ext autoreload\n",
    "%autoreload 2"
   ]
  },
  {
   "cell_type": "markdown",
   "metadata": {},
   "source": [
    "# Introduction\n",
    "\n",
    "When building Large Language Model (LLM) applications, we strive to balance between achieving the highest response quality while adhering to a limited cost budget. Closed models like GPT-4 are renowned for their superior quality, but they can become prohibitively expensive, especially when handling a large volume of queries. On the other hand, Open Source Software (OSS) models are more cost-effective but may not deliver the same quality, particularly for complex or domain-specific queries.\n",
    "\n",
    "A \"smart router\" addresses this challenge by processing user queries and deciding whether to route them to a closed LLM or an OSS LLM, depending on the query's complexity or domain. Here’s a schematic representation of a smart router:\n",
    "\n",
    "<div style=\"text-align: center;\">\n",
    "    <img src=\"assets/llm-router-flowchart_2.png\" alt=\"Smart Router\" width=\"800\"/>\n",
    "</div>\n",
    "\n",
    "Given a set of user queries, a smart router enables generating high-quality LLM responses while minimizing the overall cost.\n",
    "\n",
    "# Approach\n",
    "\n",
    "In this tutorial, we'll demonstrate how to train a smart router on the Anyscale platform. We make the following design choices:\n",
    "\n",
    "1. **Model Choices**: We’ll use GPT-4 as an example of a closed LLM and Mixtral-8x7B as the OSS LLM, so our smart router will route between these two models.\n",
    "2. **Response Quality Rating**: We'll quantify the quality of an LLM response on a scale of 1 to 5 stars, with higher scores indicating better quality. For simplicity, we'll assume that GPT-4 always achieves a 5-star rating, so it serves as a reference for Mixtral-8x7B.\n",
    "3. **Smart Router Model**: We'll finetune a Llama3-8B model as our smart router and leverage Anyscale's powerful API. Our research (see our [arXiv paper](put link to arxiv paper)) shows that this model offers superior routing performance compared to smaller architectures.\n",
    "\n",
    "More concretely, the objective of a smart router is to direct simple queries to Mixtral-8x7B, thereby maintaining high overall response quality (e.g., an average score of 4.8/5) while significantly reducing costs (e.g., by 50%).\n",
    "\n",
    "\n",
    "\n"
   ]
  },
  {
   "cell_type": "markdown",
   "metadata": {},
   "source": [
    "# Table of Contents\n",
    "\n",
    "1. [**Prepare Labeled Data**](#generate-labeled-data): We describe how to generate synthetic labeled data to train the smart router model.\n",
    "\n",
    "2. [**Finetune a Router Model**](#finetune-router-model): We show how to train a smart router by finetuning an LLM classifier using Anyscale's finetuning API.\n",
    "\n",
    "3. [**Offline Evaluation**](#offline-eval): We load the model from the training checkpoint, run batch inference, and evaluate its performance.\n",
    "\n",
    "**Time to complete**: 40 minutes\n"
   ]
  },
  {
   "cell_type": "markdown",
   "metadata": {},
   "source": [
    "### Setup"
   ]
  },
  {
   "cell_type": "code",
   "execution_count": 8,
   "metadata": {},
   "outputs": [
    {
     "name": "stdout",
     "output_type": "stream",
     "text": [
      "Requirement already satisfied: datasets==2.20.0 in /home/ray/anaconda3/lib/python3.11/site-packages (from -r requirements.txt (line 1)) (2.20.0)\n",
      "Requirement already satisfied: fire==0.6.0 in /home/ray/anaconda3/lib/python3.11/site-packages (from -r requirements.txt (line 2)) (0.6.0)\n",
      "Requirement already satisfied: matplotlib==3.9.0 in /home/ray/anaconda3/lib/python3.11/site-packages (from -r requirements.txt (line 3)) (3.9.0)\n",
      "Requirement already satisfied: numpy==1.24.4 in /home/ray/anaconda3/lib/python3.11/site-packages (from -r requirements.txt (line 4)) (1.24.4)\n",
      "Requirement already satisfied: openai==1.35.3 in /home/ray/anaconda3/lib/python3.11/site-packages (from -r requirements.txt (line 5)) (1.35.3)\n",
      "Requirement already satisfied: pandas==1.5.3 in /home/ray/anaconda3/lib/python3.11/site-packages (from -r requirements.txt (line 6)) (1.5.3)\n",
      "Requirement already satisfied: scikit_learn==1.5.0 in /home/ray/anaconda3/lib/python3.11/site-packages (from -r requirements.txt (line 7)) (1.5.0)\n",
      "Requirement already satisfied: filelock in /home/ray/anaconda3/lib/python3.11/site-packages (from datasets==2.20.0->-r requirements.txt (line 1)) (3.13.1)\n",
      "Requirement already satisfied: pyarrow>=15.0.0 in /home/ray/anaconda3/lib/python3.11/site-packages (from datasets==2.20.0->-r requirements.txt (line 1)) (16.1.0)\n",
      "Requirement already satisfied: pyarrow-hotfix in /home/ray/anaconda3/lib/python3.11/site-packages (from datasets==2.20.0->-r requirements.txt (line 1)) (0.6)\n",
      "Requirement already satisfied: dill<0.3.9,>=0.3.0 in /home/ray/anaconda3/lib/python3.11/site-packages (from datasets==2.20.0->-r requirements.txt (line 1)) (0.3.8)\n",
      "Requirement already satisfied: requests>=2.32.2 in /home/ray/anaconda3/lib/python3.11/site-packages (from datasets==2.20.0->-r requirements.txt (line 1)) (2.32.3)\n",
      "Requirement already satisfied: tqdm>=4.66.3 in /home/ray/anaconda3/lib/python3.11/site-packages (from datasets==2.20.0->-r requirements.txt (line 1)) (4.66.4)\n",
      "Requirement already satisfied: xxhash in /home/ray/anaconda3/lib/python3.11/site-packages (from datasets==2.20.0->-r requirements.txt (line 1)) (3.4.1)\n",
      "Requirement already satisfied: multiprocess in /home/ray/anaconda3/lib/python3.11/site-packages (from datasets==2.20.0->-r requirements.txt (line 1)) (0.70.16)\n",
      "Requirement already satisfied: fsspec<=2024.5.0,>=2023.1.0 in /home/ray/anaconda3/lib/python3.11/site-packages (from fsspec[http]<=2024.5.0,>=2023.1.0->datasets==2.20.0->-r requirements.txt (line 1)) (2023.5.0)\n",
      "Requirement already satisfied: aiohttp in /home/ray/anaconda3/lib/python3.11/site-packages (from datasets==2.20.0->-r requirements.txt (line 1)) (3.8.6)\n",
      "Requirement already satisfied: huggingface-hub>=0.21.2 in /home/ray/anaconda3/lib/python3.11/site-packages (from datasets==2.20.0->-r requirements.txt (line 1)) (0.23.4)\n",
      "Requirement already satisfied: packaging in /home/ray/anaconda3/lib/python3.11/site-packages (from datasets==2.20.0->-r requirements.txt (line 1)) (24.1)\n",
      "Requirement already satisfied: pyyaml>=5.1 in /home/ray/anaconda3/lib/python3.11/site-packages (from datasets==2.20.0->-r requirements.txt (line 1)) (6.0.1)\n",
      "Requirement already satisfied: six in /home/ray/anaconda3/lib/python3.11/site-packages (from fire==0.6.0->-r requirements.txt (line 2)) (1.16.0)\n",
      "Requirement already satisfied: termcolor in /home/ray/anaconda3/lib/python3.11/site-packages (from fire==0.6.0->-r requirements.txt (line 2)) (2.4.0)\n",
      "Requirement already satisfied: contourpy>=1.0.1 in /home/ray/anaconda3/lib/python3.11/site-packages (from matplotlib==3.9.0->-r requirements.txt (line 3)) (1.2.1)\n",
      "Requirement already satisfied: cycler>=0.10 in /home/ray/anaconda3/lib/python3.11/site-packages (from matplotlib==3.9.0->-r requirements.txt (line 3)) (0.12.1)\n",
      "Requirement already satisfied: fonttools>=4.22.0 in /home/ray/anaconda3/lib/python3.11/site-packages (from matplotlib==3.9.0->-r requirements.txt (line 3)) (4.53.0)\n",
      "Requirement already satisfied: kiwisolver>=1.3.1 in /home/ray/anaconda3/lib/python3.11/site-packages (from matplotlib==3.9.0->-r requirements.txt (line 3)) (1.4.5)\n",
      "Requirement already satisfied: pillow>=8 in /home/ray/anaconda3/lib/python3.11/site-packages (from matplotlib==3.9.0->-r requirements.txt (line 3)) (9.2.0)\n",
      "Requirement already satisfied: pyparsing>=2.3.1 in /home/ray/anaconda3/lib/python3.11/site-packages (from matplotlib==3.9.0->-r requirements.txt (line 3)) (3.1.1)\n",
      "Requirement already satisfied: python-dateutil>=2.7 in /home/ray/anaconda3/lib/python3.11/site-packages (from matplotlib==3.9.0->-r requirements.txt (line 3)) (2.8.2)\n",
      "Requirement already satisfied: anyio<5,>=3.5.0 in /home/ray/anaconda3/lib/python3.11/site-packages (from openai==1.35.3->-r requirements.txt (line 5)) (3.7.1)\n",
      "Requirement already satisfied: distro<2,>=1.7.0 in /home/ray/anaconda3/lib/python3.11/site-packages (from openai==1.35.3->-r requirements.txt (line 5)) (1.8.0)\n",
      "Requirement already satisfied: httpx<1,>=0.23.0 in /home/ray/anaconda3/lib/python3.11/site-packages (from openai==1.35.3->-r requirements.txt (line 5)) (0.27.0)\n",
      "Requirement already satisfied: pydantic<3,>=1.9.0 in /home/ray/anaconda3/lib/python3.11/site-packages (from openai==1.35.3->-r requirements.txt (line 5)) (2.5.0)\n",
      "Requirement already satisfied: sniffio in /home/ray/anaconda3/lib/python3.11/site-packages (from openai==1.35.3->-r requirements.txt (line 5)) (1.3.0)\n",
      "Requirement already satisfied: typing-extensions<5,>=4.7 in /home/ray/anaconda3/lib/python3.11/site-packages (from openai==1.35.3->-r requirements.txt (line 5)) (4.8.0)\n",
      "Requirement already satisfied: pytz>=2020.1 in /home/ray/anaconda3/lib/python3.11/site-packages (from pandas==1.5.3->-r requirements.txt (line 6)) (2022.7.1)\n",
      "Requirement already satisfied: scipy>=1.6.0 in /home/ray/anaconda3/lib/python3.11/site-packages (from scikit_learn==1.5.0->-r requirements.txt (line 7)) (1.11.4)\n",
      "Requirement already satisfied: joblib>=1.2.0 in /home/ray/anaconda3/lib/python3.11/site-packages (from scikit_learn==1.5.0->-r requirements.txt (line 7)) (1.4.2)\n",
      "Requirement already satisfied: threadpoolctl>=3.1.0 in /home/ray/anaconda3/lib/python3.11/site-packages (from scikit_learn==1.5.0->-r requirements.txt (line 7)) (3.5.0)\n",
      "Requirement already satisfied: idna>=2.8 in /home/ray/anaconda3/lib/python3.11/site-packages (from anyio<5,>=3.5.0->openai==1.35.3->-r requirements.txt (line 5)) (3.7)\n",
      "Requirement already satisfied: attrs>=17.3.0 in /home/ray/anaconda3/lib/python3.11/site-packages (from aiohttp->datasets==2.20.0->-r requirements.txt (line 1)) (23.2.0)\n",
      "Requirement already satisfied: charset-normalizer<4.0,>=2.0 in /home/ray/anaconda3/lib/python3.11/site-packages (from aiohttp->datasets==2.20.0->-r requirements.txt (line 1)) (3.3.2)\n",
      "Requirement already satisfied: multidict<7.0,>=4.5 in /home/ray/anaconda3/lib/python3.11/site-packages (from aiohttp->datasets==2.20.0->-r requirements.txt (line 1)) (6.0.4)\n",
      "Requirement already satisfied: async-timeout<5.0,>=4.0.0a3 in /home/ray/anaconda3/lib/python3.11/site-packages (from aiohttp->datasets==2.20.0->-r requirements.txt (line 1)) (4.0.3)\n",
      "Requirement already satisfied: yarl<2.0,>=1.0 in /home/ray/anaconda3/lib/python3.11/site-packages (from aiohttp->datasets==2.20.0->-r requirements.txt (line 1)) (1.9.3)\n",
      "Requirement already satisfied: frozenlist>=1.1.1 in /home/ray/anaconda3/lib/python3.11/site-packages (from aiohttp->datasets==2.20.0->-r requirements.txt (line 1)) (1.4.0)\n",
      "Requirement already satisfied: aiosignal>=1.1.2 in /home/ray/anaconda3/lib/python3.11/site-packages (from aiohttp->datasets==2.20.0->-r requirements.txt (line 1)) (1.3.1)\n",
      "Requirement already satisfied: certifi in /home/ray/anaconda3/lib/python3.11/site-packages (from httpx<1,>=0.23.0->openai==1.35.3->-r requirements.txt (line 5)) (2023.11.17)\n",
      "Requirement already satisfied: httpcore==1.* in /home/ray/anaconda3/lib/python3.11/site-packages (from httpx<1,>=0.23.0->openai==1.35.3->-r requirements.txt (line 5)) (1.0.5)\n",
      "Requirement already satisfied: h11<0.15,>=0.13 in /home/ray/anaconda3/lib/python3.11/site-packages (from httpcore==1.*->httpx<1,>=0.23.0->openai==1.35.3->-r requirements.txt (line 5)) (0.14.0)\n",
      "Requirement already satisfied: annotated-types>=0.4.0 in /home/ray/anaconda3/lib/python3.11/site-packages (from pydantic<3,>=1.9.0->openai==1.35.3->-r requirements.txt (line 5)) (0.6.0)\n",
      "Requirement already satisfied: pydantic-core==2.14.1 in /home/ray/anaconda3/lib/python3.11/site-packages (from pydantic<3,>=1.9.0->openai==1.35.3->-r requirements.txt (line 5)) (2.14.1)\n",
      "Requirement already satisfied: urllib3<3,>=1.21.1 in /home/ray/anaconda3/lib/python3.11/site-packages (from requests>=2.32.2->datasets==2.20.0->-r requirements.txt (line 1)) (1.26.18)\n",
      "Found credentials from IAM Role: cld_ldm5ez4edlp7yh4yiakp2u294w-cluster_node_role\n"
     ]
    }
   ],
   "source": [
    "import os\n",
    "\n",
    "# Set environment variables\n",
    "# os.environ['ANYSCALE_API_KEY'] = 'your_anyscale_api_key_here'\n",
    "# os.environ['OPENAI_API_KEY'] = 'your_openai_api_key_here'\n",
    "\n",
    "os.environ['ANYSCALE_API_KEY'] = ''\n",
    "os.environ['OPENAI_API_KEY'] = ''\n",
    "\n",
    "# Install required packages\n",
    "!pip install -r requirements.txt\n"
   ]
  },
  {
   "cell_type": "markdown",
   "metadata": {},
   "source": [
    "# Step 1: Prepare Labeled Data <a id=\"generate-labeled-data\"></a>\n",
    "\n",
    "Our smart router essentially functions as a binary classifier, deciding whether to route a query to GPT-4 or Mixtral-8x7B based on the query text. Initially, we considered labeled data in the format `(query, routing_label)`, where `routing_label` is 1 if the query should be routed to Mixtral-8x7B and 0 if it should be routed to GPT-4.\n",
    "\n",
    "However, our early experiments revealed that *binary labels do not provide sufficient signal for training a robust router model*. Therefore, we adopted a different labeling approach using a *1-5 scoring system*, which reflects how well Mixtral-8x7B can effectively respond to the user's query. More specifically:\n",
    "\n",
    "- **4-5**: Mixtral-8x7B produces a very strong answer, showing deep understanding, creativity, detailed insight, and high relevance.\n",
    "- **3**: Mixtral-8x7B provides an adequate answer with moderate detail, relevance, and factual accuracy.\n",
    "- **1-2**: Mixtral-8x7B struggles to produce a strong answer due to the question's difficulty, vagueness, or the model's limitations.\n",
    "\n",
    "We use labeled samples in the format `(query, score_label)`. The `routing_label` can be derived from the `score_label` by setting a score threshold for quality, i.e. `routing_label = 1 if score_label >= 4 else 0`.\n",
    "\n",
    "In the following, we will explain how we prepare our labeled dataset in detail.\n"
   ]
  },
  {
   "cell_type": "markdown",
   "metadata": {},
   "source": [
    "## 1.1: Query Dataset\n",
    "\n",
    "We want our smart router to be effective in open-ended chat domains. So, our first step is to collect a set of generic queries from the [Nectar dataset](https://huggingface.co/datasets/berkeley-nest/Nectar). We chose the Nectar dataset for two reasons: it combines queries from many different domains, including open-ended chat, and it has responses from many models, including over 191K responses from GPT-4."
   ]
  },
  {
   "cell_type": "code",
   "execution_count": 3,
   "metadata": {},
   "outputs": [
    {
     "name": "stderr",
     "output_type": "stream",
     "text": [
      "/home/ray/anaconda3/lib/python3.11/site-packages/tqdm/auto.py:21: TqdmWarning: IProgress not found. Please update jupyter and ipywidgets. See https://ipywidgets.readthedocs.io/en/stable/user_install.html\n",
      "  from .autonotebook import tqdm as notebook_tqdm\n",
      "Downloading readme: 100%|██████████| 8.65k/8.65k [00:00<00:00, 32.3MB/s]\n",
      "Downloading data: 100%|██████████| 517M/517M [00:15<00:00, 33.1MB/s] \n",
      "Generating train split: 100%|██████████| 182954/182954 [00:05<00:00, 36557.83 examples/s]\n"
     ]
    },
    {
     "data": {
      "text/html": [
       "<div>\n",
       "<style scoped>\n",
       "    .dataframe tbody tr th:only-of-type {\n",
       "        vertical-align: middle;\n",
       "    }\n",
       "\n",
       "    .dataframe tbody tr th {\n",
       "        vertical-align: top;\n",
       "    }\n",
       "\n",
       "    .dataframe thead th {\n",
       "        text-align: right;\n",
       "    }\n",
       "</style>\n",
       "<table border=\"1\" class=\"dataframe\">\n",
       "  <thead>\n",
       "    <tr style=\"text-align: right;\">\n",
       "      <th></th>\n",
       "      <th>prompt</th>\n",
       "      <th>answers</th>\n",
       "      <th>turns</th>\n",
       "      <th>num_responses</th>\n",
       "      <th>source</th>\n",
       "      <th>good_natured</th>\n",
       "    </tr>\n",
       "  </thead>\n",
       "  <tbody>\n",
       "    <tr>\n",
       "      <th>0</th>\n",
       "      <td>\\n\\nHuman: 0.002 = 1000 \\n1 = x?\\n\\nAssistant:</td>\n",
       "      <td>[{'answer': 'To find the value of x, we can set up a proportion using the given information:\n",
       "\n",
       "0.002/1000 = 1/x\n",
       "\n",
       "To solve for x, we can cross multiply:\n",
       "\n",
       "0.002 * x = 1000 * 1\n",
       "\n",
       "0.002x = 1000\n",
       "\n",
       "Dividing both sides by 0.002:\n",
       "\n",
       "x = 1000 / 0.002\n",
       "\n",
       "x = 500,000\n",
       "\n",
       "Therefore, 1 is equal to 500,000 in this proportion.', 'model': 'gpt-3.5-turbo', 'rank': 1.0}, {'answer': 'To solve for x in this equation, you can use cross-multiplication. Here's how:\n",
       "\n",
       "0.002 / 1 = 1000 / x\n",
       "\n",
       "Cross-multiplication gives:\n",
       "\n",
       "0.002 * x = 1000\n",
       "\n",
       "To solve for x, divide both sides by 0.002:\n",
       "\n",
       "x = 1000 / 0.002\n",
       "\n",
       "So, x equals 500,000.', 'model': 'gpt-4-0613', 'rank': 2.0}, {'answer': 'This looks like a proportion. To solve for x, you can set up a proportion equation:\n",
       "\n",
       "0.002 / 1 = 1000 / x\n",
       "\n",
       "Now, cross-multiply:\n",
       "\n",
       "0.002 \\* x = 1 \\* 1000\n",
       "\n",
       "Then, solve for x:\n",
       "\n",
       "0.002x = 1000\n",
       "\n",
       "x = 1000 / 0.002\n",
       "\n",
       "x = 500,000', 'model': 'gpt-3.5-turbo', 'rank': 3.0}, {'answer': 'If 0.002 equals 1000, then 1 would equal 500,000.', 'model': 'gpt-4', 'rank': 4.0}, {'answer': 'I apologize, but the equation you provided is not correct.\n",
       "\n",
       "0.002 is equal to 0.002, not 1000.\n",
       "\n",
       "1 is equal to x, not a number.\n",
       "\n",
       "Can you please provide a correct equation or problem for me to solve?', 'model': 'llama-2-7b-chat', 'rank': 5.0}, {'answer': '0.001 = x', 'model': 'gpt-3.5-turbo-instruct', 'rank': 6.0}, {'answer': 'It seems like you are asking for the value of x in the equation x = 1/0.002. \n",
       "\n",
       "To solve this equation, you can divide both sides by 0.002 to get: \n",
       "\n",
       "x = 1/0.002 \n",
       "x = 500 \n",
       "\n",
       "Therefore, x = 500.', 'model': 'mistral-7b-instruct-v0.1', 'rank': 7.0}]</td>\n",
       "      <td>1</td>\n",
       "      <td>7</td>\n",
       "      <td>[sharegpt]</td>\n",
       "      <td>True</td>\n",
       "    </tr>\n",
       "  </tbody>\n",
       "</table>\n",
       "</div>"
      ],
      "text/plain": [
       "                                            prompt  \\\n",
       "0  \\n\\nHuman: 0.002 = 1000 \\n1 = x?\\n\\nAssistant:    \n",
       "\n",
       "                                                                                                                                                                                                                                                                                                                                                                                                                                                                                                                                                                                                                                                                                                                                                                                                                                                                                                                                                                                                                                                                                                                                                                                                                                                                                                                                                                                                                                                                                                                                                                                                                                         answers  \\\n",
       "0  [{'answer': 'To find the value of x, we can set up a proportion using the given information:\n",
       "\n",
       "0.002/1000 = 1/x\n",
       "\n",
       "To solve for x, we can cross multiply:\n",
       "\n",
       "0.002 * x = 1000 * 1\n",
       "\n",
       "0.002x = 1000\n",
       "\n",
       "Dividing both sides by 0.002:\n",
       "\n",
       "x = 1000 / 0.002\n",
       "\n",
       "x = 500,000\n",
       "\n",
       "Therefore, 1 is equal to 500,000 in this proportion.', 'model': 'gpt-3.5-turbo', 'rank': 1.0}, {'answer': 'To solve for x in this equation, you can use cross-multiplication. Here's how:\n",
       "\n",
       "0.002 / 1 = 1000 / x\n",
       "\n",
       "Cross-multiplication gives:\n",
       "\n",
       "0.002 * x = 1000\n",
       "\n",
       "To solve for x, divide both sides by 0.002:\n",
       "\n",
       "x = 1000 / 0.002\n",
       "\n",
       "So, x equals 500,000.', 'model': 'gpt-4-0613', 'rank': 2.0}, {'answer': 'This looks like a proportion. To solve for x, you can set up a proportion equation:\n",
       "\n",
       "0.002 / 1 = 1000 / x\n",
       "\n",
       "Now, cross-multiply:\n",
       "\n",
       "0.002 \\* x = 1 \\* 1000\n",
       "\n",
       "Then, solve for x:\n",
       "\n",
       "0.002x = 1000\n",
       "\n",
       "x = 1000 / 0.002\n",
       "\n",
       "x = 500,000', 'model': 'gpt-3.5-turbo', 'rank': 3.0}, {'answer': 'If 0.002 equals 1000, then 1 would equal 500,000.', 'model': 'gpt-4', 'rank': 4.0}, {'answer': 'I apologize, but the equation you provided is not correct.\n",
       "\n",
       "0.002 is equal to 0.002, not 1000.\n",
       "\n",
       "1 is equal to x, not a number.\n",
       "\n",
       "Can you please provide a correct equation or problem for me to solve?', 'model': 'llama-2-7b-chat', 'rank': 5.0}, {'answer': '0.001 = x', 'model': 'gpt-3.5-turbo-instruct', 'rank': 6.0}, {'answer': 'It seems like you are asking for the value of x in the equation x = 1/0.002. \n",
       "\n",
       "To solve this equation, you can divide both sides by 0.002 to get: \n",
       "\n",
       "x = 1/0.002 \n",
       "x = 500 \n",
       "\n",
       "Therefore, x = 500.', 'model': 'mistral-7b-instruct-v0.1', 'rank': 7.0}]   \n",
       "\n",
       "   turns  num_responses      source  good_natured  \n",
       "0      1              7  [sharegpt]          True  "
      ]
     },
     "metadata": {},
     "output_type": "display_data"
    },
    {
     "name": "stdout",
     "output_type": "stream",
     "text": [
      "Number of queries with GPT-4 responses: 191487\n"
     ]
    }
   ],
   "source": [
    "from src.utils import load_and_display_nectar\n",
    "\n",
    "nectar_df = load_and_display_nectar()"
   ]
  },
  {
   "cell_type": "markdown",
   "metadata": {},
   "source": [
    "## 1.2 Data Preprocessing\n",
    "\n",
    "We will use a subset of the Nectar data that includes responses from GPT-4, as these will be used to generate scores (as seen below). We will process this data by focusing on single-turn conversations, filtering for good-natured interactions, and cleaning up the prompts and responses to maintain high quality. Additionally, we will sample a small subset from the dataset for the purpose of this tutorial; however, you can skip sampling to work with the full dataset."
   ]
  },
  {
   "cell_type": "code",
   "execution_count": 4,
   "metadata": {},
   "outputs": [],
   "source": [
    "from src.utils import preprocess_nectar\n",
    "\n",
    "nectar_gpt4_df = preprocess_nectar(\n",
    "    nectar_df, model=\"gpt-4\", response_column=\"gpt4_response\"\n",
    ")\n",
    "\n",
    "# Sample a small subset from the dataset for the purpose of this tutorial\n",
    "N_SUBSET = 30\n",
    "dataset_df = nectar_gpt4_df.sample(N_SUBSET, random_state=42)"
   ]
  },
  {
   "cell_type": "markdown",
   "metadata": {},
   "source": [
    "### Dataset overview with GPT-4 responses"
   ]
  },
  {
   "cell_type": "code",
   "execution_count": 5,
   "metadata": {},
   "outputs": [
    {
     "data": {
      "text/html": [
       "<div>\n",
       "<style scoped>\n",
       "    .dataframe tbody tr th:only-of-type {\n",
       "        vertical-align: middle;\n",
       "    }\n",
       "\n",
       "    .dataframe tbody tr th {\n",
       "        vertical-align: top;\n",
       "    }\n",
       "\n",
       "    .dataframe thead th {\n",
       "        text-align: right;\n",
       "    }\n",
       "</style>\n",
       "<table border=\"1\" class=\"dataframe\">\n",
       "  <thead>\n",
       "    <tr style=\"text-align: right;\">\n",
       "      <th></th>\n",
       "      <th>prompt</th>\n",
       "      <th>source</th>\n",
       "      <th>gpt4_response</th>\n",
       "    </tr>\n",
       "  </thead>\n",
       "  <tbody>\n",
       "    <tr>\n",
       "      <th>6062</th>\n",
       "      <td>Based on the features mentioned, which hotel d...</td>\n",
       "      <td>[evol_instruct]</td>\n",
       "      <td>Based on the features mentioned, Hotel A seems...</td>\n",
       "    </tr>\n",
       "    <tr>\n",
       "      <th>113830</th>\n",
       "      <td>Provide step-by-step instructions on how to cr...</td>\n",
       "      <td>[ultrachat]</td>\n",
       "      <td>Sure, here's a simple step-by-step guide on ho...</td>\n",
       "    </tr>\n",
       "    <tr>\n",
       "      <th>138869</th>\n",
       "      <td>What are the 10 largest cities in the US by po...</td>\n",
       "      <td>[lmsys-chat-1m]</td>\n",
       "      <td>As of the most recent data available, the 10 l...</td>\n",
       "    </tr>\n",
       "    <tr>\n",
       "      <th>169249</th>\n",
       "      <td>Write a comparison essay of at least 500 words...</td>\n",
       "      <td>[ultrachat]</td>\n",
       "      <td>Title: A Comparative Analysis of Driving a Car...</td>\n",
       "    </tr>\n",
       "    <tr>\n",
       "      <th>116934</th>\n",
       "      <td>Q: You are provided with an \"Event\", \"Intent\" ...</td>\n",
       "      <td>[flan_v2_niv2]</td>\n",
       "      <td>PersonX might feel satisfied or content using ...</td>\n",
       "    </tr>\n",
       "  </tbody>\n",
       "</table>\n",
       "</div>"
      ],
      "text/plain": [
       "                                                   prompt           source  \\\n",
       "6062    Based on the features mentioned, which hotel d...  [evol_instruct]   \n",
       "113830  Provide step-by-step instructions on how to cr...      [ultrachat]   \n",
       "138869  What are the 10 largest cities in the US by po...  [lmsys-chat-1m]   \n",
       "169249  Write a comparison essay of at least 500 words...      [ultrachat]   \n",
       "116934  Q: You are provided with an \"Event\", \"Intent\" ...   [flan_v2_niv2]   \n",
       "\n",
       "                                            gpt4_response  \n",
       "6062    Based on the features mentioned, Hotel A seems...  \n",
       "113830  Sure, here's a simple step-by-step guide on ho...  \n",
       "138869  As of the most recent data available, the 10 l...  \n",
       "169249  Title: A Comparative Analysis of Driving a Car...  \n",
       "116934  PersonX might feel satisfied or content using ...  "
      ]
     },
     "metadata": {},
     "output_type": "display_data"
    }
   ],
   "source": [
    "display(dataset_df.head())"
   ]
  },
  {
   "cell_type": "markdown",
   "metadata": {},
   "source": [
    "## 1.3 Data Labeling\n",
    "\n",
    "We don't have human labels for scores, so we will use the [LLM-as-a-Judge approach](https://arxiv.org/abs/2306.05685). GPT-4 will act as an evaluator, reviewing the query and Mixtral's response to provide a score from 1-5. As shown in the paper, the most robust way to get labels is by providing a reference answer for comparison. Here, GPT-4's own response serves as the reference, and Mixtral's response is evaluated against it.\n",
    "\n",
    "There are two main steps in this process:\n",
    "1. **Generate Mixtral-8x7B responses for all queries**: We will use an online batch-inference method utilizing Ray and Anyscale endpoints.\n",
    "2. **Generate LLM-as-a-Judge labels**: We will ask GPT-4 to evaluate the Mixtral responses against its own reference answers and provide a score from 1-5."
   ]
  },
  {
   "cell_type": "markdown",
   "metadata": {},
   "source": [
    "### Generate Mixtral-8x7B Responses"
   ]
  },
  {
   "cell_type": "code",
   "execution_count": 9,
   "metadata": {},
   "outputs": [
    {
     "name": "stdout",
     "output_type": "stream",
     "text": [
      "Starting batch inference on 30 queries...\n"
     ]
    },
    {
     "name": "stderr",
     "output_type": "stream",
     "text": [
      "2024-06-25 18:06:18,828\tINFO worker.py:1585 -- Connecting to existing Ray cluster at address: 10.0.61.128:6379...\n",
      "2024-06-25 18:06:18,838\tINFO worker.py:1761 -- Connected to Ray cluster. View the dashboard at \u001b[1m\u001b[32mhttps://session-ie1npcvmhzhmlk4mnmeims7iv8.i.anyscaleuserdata.com \u001b[39m\u001b[22m\n",
      "2024-06-25 18:06:18,845\tINFO packaging.py:358 -- Pushing file package 'gcs://_ray_pkg_43910d62126b8c71e246539632ee6c8e0c7ef21f.zip' (0.56MiB) to Ray cluster...\n",
      "2024-06-25 18:06:18,847\tINFO packaging.py:371 -- Successfully pushed file package 'gcs://_ray_pkg_43910d62126b8c71e246539632ee6c8e0c7ef21f.zip'.\n"
     ]
    },
    {
     "name": "stdout",
     "output_type": "stream",
     "text": [
      "# queries un-processed: 29, in-progress: 1, ready: 0\n"
     ]
    },
    {
     "name": "stdout",
     "output_type": "stream",
     "text": [
      "# queries un-processed: 28, in-progress: 2, ready: 0\n",
      "# queries un-processed: 27, in-progress: 3, ready: 0\n",
      "# queries un-processed: 26, in-progress: 4, ready: 0\n",
      "# queries un-processed: 25, in-progress: 5, ready: 0\n",
      "# queries un-processed: 24, in-progress: 6, ready: 0\n",
      "# queries un-processed: 23, in-progress: 7, ready: 0\n",
      "# queries un-processed: 22, in-progress: 8, ready: 0\n",
      "# queries un-processed: 21, in-progress: 9, ready: 0\n",
      "# queries un-processed: 20, in-progress: 10, ready: 0\n",
      "# queries un-processed: 19, in-progress: 11, ready: 0\n",
      "# queries un-processed: 18, in-progress: 12, ready: 0\n",
      "# queries un-processed: 17, in-progress: 13, ready: 0\n",
      "# queries un-processed: 16, in-progress: 14, ready: 0\n",
      "# queries un-processed: 15, in-progress: 15, ready: 0\n",
      "# queries un-processed: 14, in-progress: 16, ready: 0\n",
      "# queries un-processed: 13, in-progress: 17, ready: 0\n",
      "# queries un-processed: 12, in-progress: 17, ready: 1\n",
      "# queries un-processed: 11, in-progress: 18, ready: 0\n",
      "# queries un-processed: 10, in-progress: 18, ready: 1\n",
      "# queries un-processed: 9, in-progress: 18, ready: 1\n",
      "# queries un-processed: 8, in-progress: 18, ready: 1\n",
      "# queries un-processed: 7, in-progress: 19, ready: 0\n",
      "# queries un-processed: 6, in-progress: 20, ready: 0\n",
      "# queries un-processed: 5, in-progress: 20, ready: 1\n",
      "# queries un-processed: 4, in-progress: 20, ready: 1\n",
      "# queries un-processed: 3, in-progress: 20, ready: 1\n",
      "# queries un-processed: 2, in-progress: 20, ready: 1\n",
      "# queries un-processed: 1, in-progress: 20, ready: 1\n",
      "# queries un-processed: 0, in-progress: 21, ready: 0\n",
      "# queries un-processed: 0, in-progress: 20, ready: 1\n",
      "# queries un-processed: 0, in-progress: 19, ready: 1\n",
      "# queries un-processed: 0, in-progress: 19, ready: 0\n",
      "# queries un-processed: 0, in-progress: 18, ready: 1\n",
      "# queries un-processed: 0, in-progress: 17, ready: 1\n",
      "# queries un-processed: 0, in-progress: 16, ready: 1\n",
      "# queries un-processed: 0, in-progress: 16, ready: 0\n",
      "# queries un-processed: 0, in-progress: 15, ready: 1\n",
      "# queries un-processed: 0, in-progress: 15, ready: 0\n",
      "# queries un-processed: 0, in-progress: 15, ready: 0\n",
      "# queries un-processed: 0, in-progress: 15, ready: 0\n",
      "# queries un-processed: 0, in-progress: 14, ready: 1\n",
      "# queries un-processed: 0, in-progress: 13, ready: 1\n",
      "# queries un-processed: 0, in-progress: 12, ready: 1\n",
      "# queries un-processed: 0, in-progress: 11, ready: 1\n",
      "# queries un-processed: 0, in-progress: 10, ready: 1\n",
      "# queries un-processed: 0, in-progress: 9, ready: 1\n",
      "# queries un-processed: 0, in-progress: 8, ready: 1\n",
      "# queries un-processed: 0, in-progress: 7, ready: 1\n",
      "# queries un-processed: 0, in-progress: 6, ready: 1\n",
      "# queries un-processed: 0, in-progress: 5, ready: 1\n",
      "# queries un-processed: 0, in-progress: 4, ready: 1\n",
      "# queries un-processed: 0, in-progress: 3, ready: 1\n",
      "# queries un-processed: 0, in-progress: 3, ready: 0\n",
      "# queries un-processed: 0, in-progress: 3, ready: 0\n",
      "# queries un-processed: 0, in-progress: 2, ready: 1\n",
      "# queries un-processed: 0, in-progress: 2, ready: 0\n",
      "# queries un-processed: 0, in-progress: 1, ready: 1\n",
      "# queries un-processed: 0, in-progress: 0, ready: 1\n",
      "Done in 21.20sec.\n"
     ]
    },
    {
     "name": "stdout",
     "output_type": "stream",
     "text": [
      "\u001b[36m(autoscaler +6m34s)\u001b[0m Tip: use `ray status` to view detailed cluster status. To disable these messages, set RAY_SCHEDULER_EVENTS=0.\n"
     ]
    }
   ],
   "source": [
    "import yaml\n",
    "from src.online_inference import generate_mixtral_responses\n",
    "\n",
    "dataset_df = generate_mixtral_responses(\n",
    "    dataset_df, os.environ[\"ANYSCALE_API_KEY\"], response_column=\"mixtral_response\"\n",
    ")"
   ]
  },
  {
   "cell_type": "markdown",
   "metadata": {},
   "source": [
    "### Dataset overview with Mixtral responses\n"
   ]
  },
  {
   "cell_type": "code",
   "execution_count": 10,
   "metadata": {},
   "outputs": [
    {
     "data": {
      "text/html": [
       "<div>\n",
       "<style scoped>\n",
       "    .dataframe tbody tr th:only-of-type {\n",
       "        vertical-align: middle;\n",
       "    }\n",
       "\n",
       "    .dataframe tbody tr th {\n",
       "        vertical-align: top;\n",
       "    }\n",
       "\n",
       "    .dataframe thead th {\n",
       "        text-align: right;\n",
       "    }\n",
       "</style>\n",
       "<table border=\"1\" class=\"dataframe\">\n",
       "  <thead>\n",
       "    <tr style=\"text-align: right;\">\n",
       "      <th></th>\n",
       "      <th>prompt</th>\n",
       "      <th>source</th>\n",
       "      <th>gpt4_response</th>\n",
       "      <th>mixtral_response</th>\n",
       "    </tr>\n",
       "  </thead>\n",
       "  <tbody>\n",
       "    <tr>\n",
       "      <th>6062</th>\n",
       "      <td>Based on the features mentioned, which hotel d...</td>\n",
       "      <td>[evol_instruct]</td>\n",
       "      <td>Based on the features mentioned, Hotel A seems...</td>\n",
       "      <td>Based on the information provided, I would su...</td>\n",
       "    </tr>\n",
       "    <tr>\n",
       "      <th>113830</th>\n",
       "      <td>Provide step-by-step instructions on how to cr...</td>\n",
       "      <td>[ultrachat]</td>\n",
       "      <td>Sure, here's a simple step-by-step guide on ho...</td>\n",
       "      <td>Sure, I'd be happy to help you make a homemad...</td>\n",
       "    </tr>\n",
       "    <tr>\n",
       "      <th>138869</th>\n",
       "      <td>What are the 10 largest cities in the US by po...</td>\n",
       "      <td>[lmsys-chat-1m]</td>\n",
       "      <td>As of the most recent data available, the 10 l...</td>\n",
       "      <td>Here are the 10 largest cities in the U.S. by...</td>\n",
       "    </tr>\n",
       "    <tr>\n",
       "      <th>169249</th>\n",
       "      <td>Write a comparison essay of at least 500 words...</td>\n",
       "      <td>[ultrachat]</td>\n",
       "      <td>Title: A Comparative Analysis of Driving a Car...</td>\n",
       "      <td>Title: The Great Debate: Driving a Car vs. Ri...</td>\n",
       "    </tr>\n",
       "    <tr>\n",
       "      <th>116934</th>\n",
       "      <td>Q: You are provided with an \"Event\", \"Intent\" ...</td>\n",
       "      <td>[flan_v2_niv2]</td>\n",
       "      <td>PersonX might feel satisfied or content using ...</td>\n",
       "      <td>PersonX likely feels comfortable and focused,...</td>\n",
       "    </tr>\n",
       "  </tbody>\n",
       "</table>\n",
       "</div>"
      ],
      "text/plain": [
       "                                                   prompt           source  \\\n",
       "6062    Based on the features mentioned, which hotel d...  [evol_instruct]   \n",
       "113830  Provide step-by-step instructions on how to cr...      [ultrachat]   \n",
       "138869  What are the 10 largest cities in the US by po...  [lmsys-chat-1m]   \n",
       "169249  Write a comparison essay of at least 500 words...      [ultrachat]   \n",
       "116934  Q: You are provided with an \"Event\", \"Intent\" ...   [flan_v2_niv2]   \n",
       "\n",
       "                                            gpt4_response  \\\n",
       "6062    Based on the features mentioned, Hotel A seems...   \n",
       "113830  Sure, here's a simple step-by-step guide on ho...   \n",
       "138869  As of the most recent data available, the 10 l...   \n",
       "169249  Title: A Comparative Analysis of Driving a Car...   \n",
       "116934  PersonX might feel satisfied or content using ...   \n",
       "\n",
       "                                         mixtral_response  \n",
       "6062     Based on the information provided, I would su...  \n",
       "113830   Sure, I'd be happy to help you make a homemad...  \n",
       "138869   Here are the 10 largest cities in the U.S. by...  \n",
       "169249   Title: The Great Debate: Driving a Car vs. Ri...  \n",
       "116934   PersonX likely feels comfortable and focused,...  "
      ]
     },
     "metadata": {},
     "output_type": "display_data"
    }
   ],
   "source": [
    "display(dataset_df.head())"
   ]
  },
  {
   "cell_type": "markdown",
   "metadata": {},
   "source": [
    "### Generate GPT-4-as-a-judge scores "
   ]
  },
  {
   "cell_type": "markdown",
   "metadata": {},
   "source": [
    "Let's first take a look at an example query we will send to GPT-4 for judgement"
   ]
  },
  {
   "cell_type": "code",
   "execution_count": 11,
   "metadata": {},
   "outputs": [
    {
     "name": "stdout",
     "output_type": "stream",
     "text": [
      "[Instruction]\n",
      "Evaluate the AI assistant's proficiency in answering the user question displayed below. Your evaluation should consider factors such as the helpfulness, relevance, adherence to real-world facts, depth, creativity, and level of detail of the response. You will be given a reference answer which is considered of high quality. Your assessment will have two lines: First line has a rating on a scale of 1 to 5 with a higher rating representing higher response quality. Follow strictly this format: \"[[rating]]\", for example: \"[[3]]\". Second line contains a short explanation of your rating.\n",
      "\n",
      "[Question]\n",
      "Q: You are provided with an \"Event\", \"Intent\" related to PersonX. Guess a reaction/reaction of PersonX about the given event and their intention.\n",
      "Event:PersonX uses ___ in class. Intent: 1) to use his prefered writing implement\n",
      "A:\n",
      "\n",
      "[Reference Answer]\n",
      "PersonX might feel satisfied or content using their preferred writing implement in class, as it aligns with their intention to utilize a comfortable and desired tool for writing. \n",
      "Confidence: 85%\n",
      "\n",
      "[Assistant Answer]\n",
      " PersonX likely feels comfortable and focused, as they are using their preferred writing implement in class. This may help them engage more effectively with the material being taught.\n",
      "\n",
      "Guidelines for Rating:\n",
      " - High Rating (4-5): Reserved for responses that are very close to the quality of the reference or even better.\n",
      " - Medium Rating (3): Reserved for responses that have moderate quality compared to the reference.\n",
      " - Low Rating (1-2): Allocated to response that are much lower quality compared to the reference or completely wrong.\n",
      "\n",
      "Assessment:\n",
      "\n"
     ]
    }
   ],
   "source": [
    "from src.utils import inspect_llm_judge_queries\n",
    "\n",
    "inspect_llm_judge_queries(dataset_df)"
   ]
  },
  {
   "cell_type": "markdown",
   "metadata": {},
   "source": [
    "Now, we apply a similar online batch-inference method to generate our labels."
   ]
  },
  {
   "cell_type": "code",
   "execution_count": 12,
   "metadata": {},
   "outputs": [
    {
     "name": "stdout",
     "output_type": "stream",
     "text": [
      "Starting batch inference on 30 queries...\n",
      "# queries un-processed: 29, in-progress: 1, ready: 0\n",
      "# queries un-processed: 28, in-progress: 2, ready: 0\n",
      "# queries un-processed: 27, in-progress: 3, ready: 0\n",
      "# queries un-processed: 26, in-progress: 4, ready: 0\n",
      "# queries un-processed: 25, in-progress: 5, ready: 0\n",
      "# queries un-processed: 24, in-progress: 6, ready: 0\n",
      "# queries un-processed: 23, in-progress: 7, ready: 0\n",
      "# queries un-processed: 22, in-progress: 7, ready: 1\n",
      "# queries un-processed: 21, in-progress: 7, ready: 1\n",
      "# queries un-processed: 20, in-progress: 8, ready: 0\n",
      "# queries un-processed: 19, in-progress: 8, ready: 1\n",
      "# queries un-processed: 18, in-progress: 9, ready: 0\n",
      "# queries un-processed: 17, in-progress: 10, ready: 0\n",
      "# queries un-processed: 17, in-progress: 9, ready: 1\n",
      "# queries un-processed: 16, in-progress: 9, ready: 1\n",
      "# queries un-processed: 15, in-progress: 9, ready: 1\n",
      "# queries un-processed: 14, in-progress: 9, ready: 1\n",
      "# queries un-processed: 13, in-progress: 9, ready: 1\n",
      "# queries un-processed: 12, in-progress: 9, ready: 1\n",
      "# queries un-processed: 11, in-progress: 10, ready: 0\n",
      "# queries un-processed: 11, in-progress: 9, ready: 1\n",
      "# queries un-processed: 10, in-progress: 10, ready: 0\n",
      "# queries un-processed: 10, in-progress: 9, ready: 1\n",
      "# queries un-processed: 9, in-progress: 9, ready: 1\n",
      "# queries un-processed: 8, in-progress: 9, ready: 1\n",
      "# queries un-processed: 7, in-progress: 9, ready: 1\n",
      "# queries un-processed: 6, in-progress: 9, ready: 1\n",
      "# queries un-processed: 5, in-progress: 10, ready: 0\n",
      "# queries un-processed: 5, in-progress: 9, ready: 1\n",
      "# queries un-processed: 4, in-progress: 10, ready: 0\n",
      "# queries un-processed: 4, in-progress: 10, ready: 0\n",
      "# queries un-processed: 4, in-progress: 9, ready: 1\n",
      "# queries un-processed: 3, in-progress: 9, ready: 1\n",
      "# queries un-processed: 2, in-progress: 10, ready: 0\n",
      "# queries un-processed: 2, in-progress: 9, ready: 1\n",
      "# queries un-processed: 1, in-progress: 9, ready: 1\n",
      "# queries un-processed: 0, in-progress: 9, ready: 1\n",
      "# queries un-processed: 0, in-progress: 9, ready: 0\n",
      "# queries un-processed: 0, in-progress: 8, ready: 1\n",
      "# queries un-processed: 0, in-progress: 7, ready: 1\n",
      "# queries un-processed: 0, in-progress: 6, ready: 1\n",
      "# queries un-processed: 0, in-progress: 6, ready: 0\n",
      "# queries un-processed: 0, in-progress: 5, ready: 1\n",
      "# queries un-processed: 0, in-progress: 4, ready: 1\n",
      "# queries un-processed: 0, in-progress: 3, ready: 1\n",
      "# queries un-processed: 0, in-progress: 3, ready: 0\n",
      "# queries un-processed: 0, in-progress: 3, ready: 0\n",
      "# queries un-processed: 0, in-progress: 3, ready: 0\n",
      "# queries un-processed: 0, in-progress: 2, ready: 1\n",
      "# queries un-processed: 0, in-progress: 1, ready: 1\n",
      "# queries un-processed: 0, in-progress: 0, ready: 1\n",
      "Done in 16.43sec.\n"
     ]
    }
   ],
   "source": [
    "import yaml\n",
    "from src.online_inference import generate_llm_judge_labels\n",
    "\n",
    "dataset_df = generate_llm_judge_labels(dataset_df, os.environ['OPENAI_API_KEY'])"
   ]
  },
  {
   "cell_type": "markdown",
   "metadata": {},
   "source": [
    "### Dataset overview with score labels\n"
   ]
  },
  {
   "cell_type": "code",
   "execution_count": 13,
   "metadata": {},
   "outputs": [
    {
     "data": {
      "text/html": [
       "<div>\n",
       "<style scoped>\n",
       "    .dataframe tbody tr th:only-of-type {\n",
       "        vertical-align: middle;\n",
       "    }\n",
       "\n",
       "    .dataframe tbody tr th {\n",
       "        vertical-align: top;\n",
       "    }\n",
       "\n",
       "    .dataframe thead th {\n",
       "        text-align: right;\n",
       "    }\n",
       "</style>\n",
       "<table border=\"1\" class=\"dataframe\">\n",
       "  <thead>\n",
       "    <tr style=\"text-align: right;\">\n",
       "      <th></th>\n",
       "      <th>prompt</th>\n",
       "      <th>source</th>\n",
       "      <th>gpt4_response</th>\n",
       "      <th>mixtral_response</th>\n",
       "      <th>mixtral_score</th>\n",
       "    </tr>\n",
       "  </thead>\n",
       "  <tbody>\n",
       "    <tr>\n",
       "      <th>6062</th>\n",
       "      <td>Based on the features mentioned, which hotel d...</td>\n",
       "      <td>[evol_instruct]</td>\n",
       "      <td>Based on the features mentioned, Hotel A seems...</td>\n",
       "      <td>Based on the information provided, I would su...</td>\n",
       "      <td>5</td>\n",
       "    </tr>\n",
       "    <tr>\n",
       "      <th>113830</th>\n",
       "      <td>Provide step-by-step instructions on how to cr...</td>\n",
       "      <td>[ultrachat]</td>\n",
       "      <td>Sure, here's a simple step-by-step guide on ho...</td>\n",
       "      <td>Sure, I'd be happy to help you make a homemad...</td>\n",
       "      <td>4</td>\n",
       "    </tr>\n",
       "    <tr>\n",
       "      <th>138869</th>\n",
       "      <td>What are the 10 largest cities in the US by po...</td>\n",
       "      <td>[lmsys-chat-1m]</td>\n",
       "      <td>As of the most recent data available, the 10 l...</td>\n",
       "      <td>Here are the 10 largest cities in the U.S. by...</td>\n",
       "      <td>5</td>\n",
       "    </tr>\n",
       "    <tr>\n",
       "      <th>169249</th>\n",
       "      <td>Write a comparison essay of at least 500 words...</td>\n",
       "      <td>[ultrachat]</td>\n",
       "      <td>Title: A Comparative Analysis of Driving a Car...</td>\n",
       "      <td>Title: The Great Debate: Driving a Car vs. Ri...</td>\n",
       "      <td>4</td>\n",
       "    </tr>\n",
       "    <tr>\n",
       "      <th>116934</th>\n",
       "      <td>Q: You are provided with an \"Event\", \"Intent\" ...</td>\n",
       "      <td>[flan_v2_niv2]</td>\n",
       "      <td>PersonX might feel satisfied or content using ...</td>\n",
       "      <td>PersonX likely feels comfortable and focused,...</td>\n",
       "      <td>5</td>\n",
       "    </tr>\n",
       "  </tbody>\n",
       "</table>\n",
       "</div>"
      ],
      "text/plain": [
       "                                                   prompt           source  \\\n",
       "6062    Based on the features mentioned, which hotel d...  [evol_instruct]   \n",
       "113830  Provide step-by-step instructions on how to cr...      [ultrachat]   \n",
       "138869  What are the 10 largest cities in the US by po...  [lmsys-chat-1m]   \n",
       "169249  Write a comparison essay of at least 500 words...      [ultrachat]   \n",
       "116934  Q: You are provided with an \"Event\", \"Intent\" ...   [flan_v2_niv2]   \n",
       "\n",
       "                                            gpt4_response  \\\n",
       "6062    Based on the features mentioned, Hotel A seems...   \n",
       "113830  Sure, here's a simple step-by-step guide on ho...   \n",
       "138869  As of the most recent data available, the 10 l...   \n",
       "169249  Title: A Comparative Analysis of Driving a Car...   \n",
       "116934  PersonX might feel satisfied or content using ...   \n",
       "\n",
       "                                         mixtral_response  mixtral_score  \n",
       "6062     Based on the information provided, I would su...              5  \n",
       "113830   Sure, I'd be happy to help you make a homemad...              4  \n",
       "138869   Here are the 10 largest cities in the U.S. by...              5  \n",
       "169249   Title: The Great Debate: Driving a Car vs. Ri...              4  \n",
       "116934   PersonX likely feels comfortable and focused,...              5  "
      ]
     },
     "metadata": {},
     "output_type": "display_data"
    }
   ],
   "source": [
    "display(dataset_df.head())"
   ]
  },
  {
   "cell_type": "markdown",
   "metadata": {},
   "source": [
    "### Full Dataset\n",
    "We have previously generated the full labeled datasets, created a train and validation splits, and published them as a public huggingface dataset `outellm/gpt4_dataset`. Let's load the dataset and explore the score distribution.\n"
   ]
  },
  {
   "cell_type": "code",
   "execution_count": 2,
   "metadata": {},
   "outputs": [
    {
     "name": "stderr",
     "output_type": "stream",
     "text": [
      "/home/ray/anaconda3/lib/python3.11/site-packages/tqdm/auto.py:21: TqdmWarning: IProgress not found. Please update jupyter and ipywidgets. See https://ipywidgets.readthedocs.io/en/stable/user_install.html\n",
      "  from .autonotebook import tqdm as notebook_tqdm\n"
     ]
    },
    {
     "name": "stdout",
     "output_type": "stream",
     "text": [
      "Train size: 109101\n",
      "Validation size: 10000\n"
     ]
    },
    {
     "data": {
      "text/html": [
       "<div>\n",
       "<style scoped>\n",
       "    .dataframe tbody tr th:only-of-type {\n",
       "        vertical-align: middle;\n",
       "    }\n",
       "\n",
       "    .dataframe tbody tr th {\n",
       "        vertical-align: top;\n",
       "    }\n",
       "\n",
       "    .dataframe thead th {\n",
       "        text-align: right;\n",
       "    }\n",
       "</style>\n",
       "<table border=\"1\" class=\"dataframe\">\n",
       "  <thead>\n",
       "    <tr style=\"text-align: right;\">\n",
       "      <th></th>\n",
       "      <th>prompt</th>\n",
       "      <th>source</th>\n",
       "      <th>gpt4_response</th>\n",
       "      <th>mixtral_response</th>\n",
       "      <th>mixtral_score</th>\n",
       "    </tr>\n",
       "  </thead>\n",
       "  <tbody>\n",
       "    <tr>\n",
       "      <th>0</th>\n",
       "      <td>I'll give you a review, can you extract the fo...</td>\n",
       "      <td>[lmsys-chat-1m]</td>\n",
       "      <td>Sure, here's the analysis of the review:\\n\\n1....</td>\n",
       "      <td>Food aspects and opinion words:\\n\\n1. Made to ...</td>\n",
       "      <td>4</td>\n",
       "    </tr>\n",
       "    <tr>\n",
       "      <th>1</th>\n",
       "      <td>Answer the following question: Claim: \"Joker m...</td>\n",
       "      <td>[flan_v2_cot]</td>\n",
       "      <td>The answer is no.\\nChain of thoughts: Stan Lee...</td>\n",
       "      <td>The answer is no.\\n\\nChain of thoughts: While ...</td>\n",
       "      <td>5</td>\n",
       "    </tr>\n",
       "    <tr>\n",
       "      <th>2</th>\n",
       "      <td>TASK DEFINITION: In this task you will be give...</td>\n",
       "      <td>[flan_v2_niv2]</td>\n",
       "      <td>ZdoublexpropheciesS</td>\n",
       "      <td>ZdoublexpropheciesS\\n\\nIn this task, you are a...</td>\n",
       "      <td>5</td>\n",
       "    </tr>\n",
       "    <tr>\n",
       "      <th>3</th>\n",
       "      <td>Detailed Instructions: In this task, you need ...</td>\n",
       "      <td>[flan_v2_niv2]</td>\n",
       "      <td>Yes</td>\n",
       "      <td>No, 'station' is not the longest word in the s...</td>\n",
       "      <td>5</td>\n",
       "    </tr>\n",
       "    <tr>\n",
       "      <th>4</th>\n",
       "      <td>A guy pick up a woman Then he puts her down Ex...</td>\n",
       "      <td>[sharegpt]</td>\n",
       "      <td>This phrase could be interpreted as a joke bec...</td>\n",
       "      <td>This joke is a play on words and relies on the...</td>\n",
       "      <td>5</td>\n",
       "    </tr>\n",
       "  </tbody>\n",
       "</table>\n",
       "</div>"
      ],
      "text/plain": [
       "                                              prompt           source  \\\n",
       "0  I'll give you a review, can you extract the fo...  [lmsys-chat-1m]   \n",
       "1  Answer the following question: Claim: \"Joker m...    [flan_v2_cot]   \n",
       "2  TASK DEFINITION: In this task you will be give...   [flan_v2_niv2]   \n",
       "3  Detailed Instructions: In this task, you need ...   [flan_v2_niv2]   \n",
       "4  A guy pick up a woman Then he puts her down Ex...       [sharegpt]   \n",
       "\n",
       "                                       gpt4_response  \\\n",
       "0  Sure, here's the analysis of the review:\\n\\n1....   \n",
       "1  The answer is no.\\nChain of thoughts: Stan Lee...   \n",
       "2                                ZdoublexpropheciesS   \n",
       "3                                                Yes   \n",
       "4  This phrase could be interpreted as a joke bec...   \n",
       "\n",
       "                                    mixtral_response  mixtral_score  \n",
       "0  Food aspects and opinion words:\\n\\n1. Made to ...              4  \n",
       "1  The answer is no.\\n\\nChain of thoughts: While ...              5  \n",
       "2  ZdoublexpropheciesS\\n\\nIn this task, you are a...              5  \n",
       "3  No, 'station' is not the longest word in the s...              5  \n",
       "4  This joke is a play on words and relies on the...              5  "
      ]
     },
     "metadata": {},
     "output_type": "display_data"
    },
    {
     "data": {
      "image/png": "[encoded data removed]",
      "text/plain": [
       "<Figure size 640x480 with 1 Axes>"
      ]
     },
     "metadata": {},
     "output_type": "display_data"
    }
   ],
   "source": [
    "from datasets import load_dataset\n",
    "from src.utils import visualize_label_distribution\n",
    "\n",
    "full_dataset_df = load_dataset(\"routellm/gpt4_dataset\")\n",
    "train_df = full_dataset_df[\"train\"].to_pandas()\n",
    "valid_df = full_dataset_df[\"validation\"].to_pandas()\n",
    "\n",
    "print(f\"Train size: {len(train_df)}\")\n",
    "print(f\"Validation size: {len(valid_df)}\")\n",
    "display(train_df.head())\n",
    "visualize_label_distribution(train_df, key=\"mixtral_score\")"
   ]
  },
  {
   "cell_type": "markdown",
   "metadata": {},
   "source": [
    "Higher counts for 4-5 scores indicate that Mixtral-8x7B consistently produces high-quality responses, demonstrating its competitive performance compared to the June 2023 version of GPT-4, whose responses are logged in the Nectar dataset.\n",
    "\n",
    "Let us assume that if the score is >= 4, we will route to the OSS model (indicating the response quality is good enough); otherwise, we will route to the closed model. Under this assumption, the data distribution looks like this:\n"
   ]
  },
  {
   "cell_type": "code",
   "execution_count": 3,
   "metadata": {},
   "outputs": [
    {
     "data": {
      "image/png": "[encoded data removed]",
      "text/plain": [
       "<Figure size 640x480 with 1 Axes>"
      ]
     },
     "metadata": {},
     "output_type": "display_data"
    }
   ],
   "source": [
    "train_df[\"routing_label\"] = train_df[\"mixtral_score\"].apply(\n",
    "    lambda x: 1 if x >= 4 else 0\n",
    ")\n",
    "valid_df[\"routing_label\"] = valid_df[\"mixtral_score\"].apply(\n",
    "    lambda x: 1 if x >= 4 else 0\n",
    ")\n",
    "visualize_label_distribution(train_df, key=\"routing_label\")"
   ]
  },
  {
   "cell_type": "markdown",
   "metadata": {},
   "source": [
    "# Step 2: Finetune a router model <a id=\"finetune-router-model\"></a>\n",
    "\n",
    "In this section, we will explain how to finetune an LLM as a smart router. While our data contains `gpt4_response` and `mixtral_response`, we will only use the pair (`query`, `mixtral_score`) for training. The goal is for the smart router to rely solely on the query text to determine which model to route to. Our approach is straightforward: we train a 5-way classifier to predict the `mixtral_score` from the `query`. At inference time, we will route to Mixtral if our router predicts a high score (i.e., 4-5) and to GPT-4 otherwise.\n"
   ]
  },
  {
   "cell_type": "markdown",
   "metadata": {},
   "source": [
    "## 2.1 Data Preparation\n",
    "We will discuss a few preprocessing steps to prepare the data for finetuning an LLM to be a smart router.\n",
    "\n",
    "### Task Instructions\n",
    "We use the instruction-following framework to finetune an LLM as a smart router. The task instructions guide the model to predict the score label for a given query. They ensure the model understands the evaluation criteria and can accurately assess the query's complexity and expected response quality."
   ]
  },
  {
   "cell_type": "code",
   "execution_count": 4,
   "metadata": {},
   "outputs": [
    {
     "name": "stdout",
     "output_type": "stream",
     "text": [
      "[Instruction]\n",
      "Based on the question provided below, predict the score an expert evaluator would give to an AI assistant's response, considering its helpfulness, relevance, adherence to facts, depth, creativity, and detail. Your prediction should infer the level of proficiency needed to address the question effectively. Use a scale from 1 to 5, where a higher score indicates a higher anticipated quality of response. Provide your prediction as: \"[[predicted rating]]\".\n",
      "\n",
      "Score criteria:\n",
      "- **4-5**: The AI assistant can produce a very strong answer, showing deep understanding, creativity, detailed insight, and high relevance.\n",
      "- **3**: The AI assistant can provide an adequate answer with moderate detail, relevance, and factual accuracy.\n",
      "- **1-2**: The AI assistant will struggle to produce a strong answer due to the question's difficulty, vagueness, or the assistant's limitations.\n",
      "\n",
      "[Question]\n",
      "{question}\n",
      "\n",
      "Prediction:\n",
      "\n"
     ]
    }
   ],
   "source": [
    "from src.utils import inspect_instructions\n",
    "\n",
    "inspect_instructions()"
   ]
  },
  {
   "cell_type": "markdown",
   "metadata": {},
   "source": [
    "### API Data Format\n",
    "\n",
    "To finetune the model, we must format the data to be compatible with [Anyscale's finetuning API](https://docs.anyscale.com/endpoints/fine-tuning/dataset-prep).\n"
   ]
  },
  {
   "cell_type": "code",
   "execution_count": 5,
   "metadata": {},
   "outputs": [
    {
     "data": {
      "text/plain": [
       "[{'role': 'system',\n",
       "  'content': '[Instruction]\\nBased on the question provided below, predict the score an expert evaluator would give to an AI assistant\\'s response, considering its helpfulness, relevance, adherence to facts, depth, creativity, and detail. Your prediction should infer the level of proficiency needed to address the question effectively. Use a scale from 1 to 5, where a higher score indicates a higher anticipated quality of response. Provide your prediction as: \"[[predicted rating]]\".\\n\\nScore criteria:\\n- **4-5**: The AI assistant can produce a very strong answer, showing deep understanding, creativity, detailed insight, and high relevance.\\n- **3**: The AI assistant can provide an adequate answer with moderate detail, relevance, and factual accuracy.\\n- **1-2**: The AI assistant will struggle to produce a strong answer due to the question\\'s difficulty, vagueness, or the assistant\\'s limitations.\\n'},\n",
       " {'role': 'user',\n",
       "  'content': \"[Question]\\nI'll give you a review, can you extract the food aspects and the opinion words of these aspects and analyze the sentiment of these opinion from this review? the review is:They tore the old NAME_1 down then built another one...? Anyway, they sell wine and beer and snacks and have a seating area inside and outside to eat. Besides gas, the big draw is the Made to Order food. I ordered some tacos and French toast sticks both were pretty good. I think I'd like to try more snacks.And they're open 24/7.\\n\\nPrediction:\\n\"},\n",
       " {'role': 'assistant', 'content': '[[4]]'}]"
      ]
     },
     "metadata": {},
     "output_type": "display_data"
    }
   ],
   "source": [
    "from src.utils import prepare_ft_messages\n",
    "\n",
    "train_df[\"messages\"] = prepare_ft_messages(train_df, \"mixtral_score\")\n",
    "valid_df[\"messages\"] = prepare_ft_messages(valid_df, \"mixtral_score\")\n",
    "\n",
    "# here's what the API data format looks like:\n",
    "display(train_df[\"messages\"].iloc[0])"
   ]
  },
  {
   "cell_type": "markdown",
   "metadata": {},
   "source": [
    "### Label Rebalancing\n",
    "\n",
    "For classification tasks, it's recommended to train on label-balanced datasets to ensure models are not biased to a specific label. We will balance the dataset based on `routing_label`, as this is the label of primary interest.\n"
   ]
  },
  {
   "cell_type": "code",
   "execution_count": 6,
   "metadata": {},
   "outputs": [
    {
     "name": "stdout",
     "output_type": "stream",
     "text": [
      "Train size: 29504\n",
      "Valid size: 2706\n"
     ]
    }
   ],
   "source": [
    "from src.utils import balance_dataset\n",
    "\n",
    "balanced_train_df = balance_dataset(train_df, key=\"routing_label\")\n",
    "balanced_valid_df = balance_dataset(valid_df, key=\"routing_label\")\n",
    "print(f\"Train size: {len(balanced_train_df)}\")\n",
    "print(f\"Valid size: {len(balanced_valid_df)}\")"
   ]
  },
  {
   "cell_type": "markdown",
   "metadata": {},
   "source": [
    "### Subsample and Store Data\n",
    "\n",
    "To expedite the time to run this tutorial, we will subsample 1,000 examples for training. We'll store the data in JSONL format to prepare for launching the finetuning job in the next section."
   ]
  },
  {
   "cell_type": "code",
   "execution_count": 20,
   "metadata": {},
   "outputs": [],
   "source": [
    "n_sample = 1000\n",
    "output_file = \"/mnt/user_storage/train_data_sample.jsonl\"\n",
    "\n",
    "subsampled_df = balanced_train_df.sample(n=n_sample, random_state=42)\n",
    "subsampled_df.to_json(output_file, orient=\"records\", lines=True)"
   ]
  },
  {
   "cell_type": "markdown",
   "metadata": {},
   "source": [
    "## 2.2 Fine-tune with Anyscale API\n",
    "\n",
    "We will run a fine-tuning job using Anyscale's LLM finetuning API as an isolated job, similar to this [tutorial](https://github.com/anyscale/e2e-llm-workflows?tab=readme-ov-file#fine-tuning-1).\n",
    "\n",
    "For this tutorial, we will perform full-parameter finetuning of Llama3-8B on the same 1,000 samples we showed earlier to debug the training dynamics and ensure the model can fit the training set. Below, we present the training and job configurations before submitting the training job.\n"
   ]
  },
  {
   "cell_type": "code",
   "execution_count": 22,
   "metadata": {},
   "outputs": [
    {
     "name": "stdout",
     "output_type": "stream",
     "text": [
      "model_id: meta-llama/Meta-Llama-3-8B\n",
      "train_path: /mnt/user_storage/train_data_sample.jsonl\n",
      "valid_path: /mnt/user_storage/train_data_sample.jsonl\n",
      "context_length: 1024\n",
      "num_devices: 8\n",
      "num_epochs: 5\n",
      "checkpoint_every_n_epochs: 5\n",
      "train_batch_size_per_device: 8\n",
      "eval_batch_size_per_device: 8\n",
      "lr_scheduler_type: constant\n",
      "learning_rate: 1e-5\n",
      "num_checkpoints_to_keep: 1\n",
      "no_gradient_checkpoint: False\n",
      "output_dir: /mnt/local_storage\n",
      "deepspeed:\n",
      "  config_path: config_files/deepspeed/zero_3_optimizer_parameter_offload.json\n",
      "flash_attention_2: true\n",
      "classifier_config:\n",
      "  label_tokens:\n",
      "      - \"[[1]]\"\n",
      "      - \"[[2]]\"\n",
      "      - \"[[3]]\"\n",
      "      - \"[[4]]\"\n",
      "      - \"[[5]]\"\n"
     ]
    }
   ],
   "source": [
    "# View the full-param finetuning configuration for llama-3-8B\n",
    "!cat configs/ft_config_a10.yaml"
   ]
  },
  {
   "cell_type": "code",
   "execution_count": 23,
   "metadata": {},
   "outputs": [
    {
     "name": "stdout",
     "output_type": "stream",
     "text": [
      "name: llm-router-tutorial\n",
      "entrypoint: python src/ft.py configs/ft_config_a10.yaml\n",
      "image_uri: localhost:5555/anyscale/llm-forge:0.5.0.0\n",
      "requirements: requirements.txt\n",
      "max_retries: 0\n"
     ]
    }
   ],
   "source": [
    "# View job yaml config\n",
    "!cat configs/ft_job.yaml"
   ]
  },
  {
   "cell_type": "code",
   "execution_count": 26,
   "metadata": {},
   "outputs": [
    {
     "name": "stdout",
     "output_type": "stream",
     "text": [
      "\u001b[1m\u001b[36mOutput\u001b[0m\u001b[0m\n",
      "\u001b[0m\u001b[1m\u001b[36m(anyscale +1.0s)\u001b[0m \u001b[0m\u001b[0m\u001b[0m\u001b[0mSubmitting job with config JobConfig(name='llm-router-tutorial', image_uri='localhost:5555/anyscale/llm-forge:0.5.0.0', compute_config=None, env_vars=None, py_modules=None, cloud=None, project=None, ray_version=None).\u001b[0m\n",
      "\u001b[0m\u001b[1m\u001b[36m(anyscale +2.5s)\u001b[0m \u001b[0m\u001b[0m\u001b[0m\u001b[0mUploading local dir '.' to cloud storage.\u001b[0m\n",
      "\u001b[0m\u001b[1m\u001b[36m(anyscale +3.5s)\u001b[0m \u001b[0m\u001b[0m\u001b[0m\u001b[0mJob 'llm-router-tutorial' submitted, ID: 'prodjob_16krca7sgdjyeh2eyf81h6q9uf'.\u001b[0m\n",
      "\u001b[0m\u001b[1m\u001b[36m(anyscale +3.5s)\u001b[0m \u001b[0m\u001b[0m\u001b[0m\u001b[0mView the job in the UI: https://console.anyscale.com/jobs/prodjob_16krca7sgdjyeh2eyf81h6q9uf\u001b[0m\n",
      "\u001b[0m\u001b[1m\u001b[36m(anyscale +3.5s)\u001b[0m \u001b[0m\u001b[0m\u001b[0m\u001b[0mUse `--wait` to wait for the job to run and stream logs.\u001b[0m\n",
      "\u001b[0m\u001b[0m"
     ]
    }
   ],
   "source": [
    "import os\n",
    "\n",
    "# Job submission\n",
    "!anyscale job submit --config-file configs/ft_job.yaml --exclude assets"
   ]
  },
  {
   "cell_type": "markdown",
   "metadata": {},
   "source": [
    "The job takes around 10 minutes on `4xA100-80gb` and 1 hour on `8xA10-22gb` to finish. Training logs will show the final model checkpoint, e.g.:\n",
    "\n",
    "```\n",
    "Best checkpoint is stored in:\n",
    "storage-bucket-cld-tffbxe9ia5phqr1unxhz4f7e1e/org_4snvy99zwbmh4gbtk64jfqggmj/cld_tffbxe9ia5phqr1unxhz4f7e1e/artifact_storage/amjad__almahairi_dkaubsimoyxpiksqxqkxrfgfvzzotwtacs/llmforge-finetuning/meta-llama/Meta-Llama-3-8B/TorchTrainer_2024-06-21_17-02-52/epoch-4\n",
    "With perplexity: 1.0318867739521242\n",
    "```\n",
    "This checkpoint can be used to run batch inference or serve the model online."
   ]
  },
  {
   "cell_type": "markdown",
   "metadata": {},
   "source": [
    "# Step 3: Offline Evaluation <a id=\"offline-eval\"></a>\n",
    "\n",
    "In this section, we will describe how to run batch inference with the model checkpoint we trained. We have trained the same model above but on the full dataset and published it in the following github repository `https://github.com/lm-sys/RouteLLM/` along with other router models we train in our paper."
   ]
  },
  {
   "cell_type": "markdown",
   "metadata": {},
   "source": [
    "### Install `RouteLLM` package"
   ]
  },
  {
   "cell_type": "code",
   "execution_count": 30,
   "metadata": {},
   "outputs": [
    {
     "name": "stdout",
     "output_type": "stream",
     "text": [
      "Cloning into '/home/ray/default/RouteLLM'...\n",
      "remote: Enumerating objects: 587, done.\u001b[K\n",
      "remote: Counting objects: 100% (587/587), done.\u001b[K\n",
      "remote: Compressing objects: 100% (315/315), done.\u001b[K\n",
      "remote: Total 587 (delta 339), reused 498 (delta 255), pack-reused 0\u001b[K\n",
      "Receiving objects: 100% (587/587), 4.55 MiB | 26.94 MiB/s, done.\n",
      "Resolving deltas: 100% (339/339), done.\n",
      "/home/ray/default/RouteLLM\n",
      "Obtaining file:///home/ray/default/RouteLLM\n",
      "  Installing build dependencies ... \u001b[?25ldone\n",
      "\u001b[?25h  Checking if build backend supports build_editable ... \u001b[?25ldone\n",
      "\u001b[?25h  Getting requirements to build editable ... \u001b[?25ldone\n",
      "\u001b[?25h  Preparing editable metadata (pyproject.toml) ... \u001b[?25ldone\n",
      "\u001b[?25hRequirement already satisfied: pyyaml in /home/ray/anaconda3/lib/python3.11/site-packages (6.0.1)\n",
      "Requirement already satisfied: pydantic in /home/ray/anaconda3/lib/python3.11/site-packages (2.5.0)\n",
      "Requirement already satisfied: numpy in /home/ray/anaconda3/lib/python3.11/site-packages (1.24.4)\n",
      "Requirement already satisfied: pandas in /home/ray/anaconda3/lib/python3.11/site-packages (1.5.3)\n",
      "Requirement already satisfied: torch in /home/ray/anaconda3/lib/python3.11/site-packages (2.3.1)\n",
      "Requirement already satisfied: scikit-learn in /home/ray/anaconda3/lib/python3.11/site-packages (1.5.0)\n",
      "Requirement already satisfied: tqdm in /home/ray/anaconda3/lib/python3.11/site-packages (4.66.4)\n",
      "Requirement already satisfied: openai in /home/ray/anaconda3/lib/python3.11/site-packages (1.35.3)\n",
      "Requirement already satisfied: transformers in /home/ray/anaconda3/lib/python3.11/site-packages (4.41.2)\n",
      "Requirement already satisfied: tiktoken in /home/ray/anaconda3/lib/python3.11/site-packages (0.7.0)\n",
      "Requirement already satisfied: datasets in /home/ray/anaconda3/lib/python3.11/site-packages (2.20.0)\n",
      "Requirement already satisfied: matplotlib in /home/ray/anaconda3/lib/python3.11/site-packages (3.9.0)\n",
      "Requirement already satisfied: pandarallel in /home/ray/anaconda3/lib/python3.11/site-packages (1.6.5)\n",
      "Requirement already satisfied: sglang in /home/ray/anaconda3/lib/python3.11/site-packages (0.1.17)\n",
      "Requirement already satisfied: filelock in /home/ray/anaconda3/lib/python3.11/site-packages (from datasets) (3.13.1)\n",
      "Requirement already satisfied: pyarrow>=15.0.0 in /home/ray/anaconda3/lib/python3.11/site-packages (from datasets) (16.1.0)\n",
      "Requirement already satisfied: pyarrow-hotfix in /home/ray/anaconda3/lib/python3.11/site-packages (from datasets) (0.6)\n",
      "Requirement already satisfied: dill<0.3.9,>=0.3.0 in /home/ray/anaconda3/lib/python3.11/site-packages (from datasets) (0.3.8)\n",
      "Requirement already satisfied: requests>=2.32.2 in /home/ray/anaconda3/lib/python3.11/site-packages (from datasets) (2.32.3)\n",
      "Requirement already satisfied: xxhash in /home/ray/anaconda3/lib/python3.11/site-packages (from datasets) (3.4.1)\n",
      "Requirement already satisfied: multiprocess in /home/ray/anaconda3/lib/python3.11/site-packages (from datasets) (0.70.16)\n",
      "Requirement already satisfied: fsspec<=2024.5.0,>=2023.1.0 in /home/ray/anaconda3/lib/python3.11/site-packages (from fsspec[http]<=2024.5.0,>=2023.1.0->datasets) (2023.5.0)\n",
      "Requirement already satisfied: aiohttp in /home/ray/anaconda3/lib/python3.11/site-packages (from datasets) (3.8.6)\n",
      "Requirement already satisfied: huggingface-hub>=0.21.2 in /home/ray/anaconda3/lib/python3.11/site-packages (from datasets) (0.23.4)\n",
      "Requirement already satisfied: packaging in /home/ray/anaconda3/lib/python3.11/site-packages (from datasets) (24.1)\n",
      "Requirement already satisfied: contourpy>=1.0.1 in /home/ray/anaconda3/lib/python3.11/site-packages (from matplotlib) (1.2.1)\n",
      "Requirement already satisfied: cycler>=0.10 in /home/ray/anaconda3/lib/python3.11/site-packages (from matplotlib) (0.12.1)\n",
      "Requirement already satisfied: fonttools>=4.22.0 in /home/ray/anaconda3/lib/python3.11/site-packages (from matplotlib) (4.53.0)\n",
      "Requirement already satisfied: kiwisolver>=1.3.1 in /home/ray/anaconda3/lib/python3.11/site-packages (from matplotlib) (1.4.5)\n",
      "Requirement already satisfied: pillow>=8 in /home/ray/anaconda3/lib/python3.11/site-packages (from matplotlib) (9.2.0)\n",
      "Requirement already satisfied: pyparsing>=2.3.1 in /home/ray/anaconda3/lib/python3.11/site-packages (from matplotlib) (3.1.1)\n",
      "Requirement already satisfied: python-dateutil>=2.7 in /home/ray/anaconda3/lib/python3.11/site-packages (from matplotlib) (2.8.2)\n",
      "Requirement already satisfied: anyio<5,>=3.5.0 in /home/ray/anaconda3/lib/python3.11/site-packages (from openai) (3.7.1)\n",
      "Requirement already satisfied: distro<2,>=1.7.0 in /home/ray/anaconda3/lib/python3.11/site-packages (from openai) (1.8.0)\n",
      "Requirement already satisfied: httpx<1,>=0.23.0 in /home/ray/anaconda3/lib/python3.11/site-packages (from openai) (0.27.0)\n",
      "Requirement already satisfied: sniffio in /home/ray/anaconda3/lib/python3.11/site-packages (from openai) (1.3.0)\n",
      "Requirement already satisfied: typing-extensions<5,>=4.7 in /home/ray/anaconda3/lib/python3.11/site-packages (from openai) (4.8.0)\n",
      "Requirement already satisfied: annotated-types>=0.4.0 in /home/ray/anaconda3/lib/python3.11/site-packages (from pydantic) (0.6.0)\n",
      "Requirement already satisfied: pydantic-core==2.14.1 in /home/ray/anaconda3/lib/python3.11/site-packages (from pydantic) (2.14.1)\n",
      "Requirement already satisfied: psutil in /home/ray/anaconda3/lib/python3.11/site-packages (from pandarallel) (5.9.8)\n",
      "Requirement already satisfied: pytz>=2020.1 in /home/ray/anaconda3/lib/python3.11/site-packages (from pandas) (2022.7.1)\n",
      "Requirement already satisfied: scipy>=1.6.0 in /home/ray/anaconda3/lib/python3.11/site-packages (from scikit-learn) (1.11.4)\n",
      "Requirement already satisfied: joblib>=1.2.0 in /home/ray/anaconda3/lib/python3.11/site-packages (from scikit-learn) (1.4.2)\n",
      "Requirement already satisfied: threadpoolctl>=3.1.0 in /home/ray/anaconda3/lib/python3.11/site-packages (from scikit-learn) (3.5.0)\n",
      "Requirement already satisfied: regex>=2022.1.18 in /home/ray/anaconda3/lib/python3.11/site-packages (from tiktoken) (2024.5.15)\n",
      "Requirement already satisfied: sympy in /home/ray/anaconda3/lib/python3.11/site-packages (from torch) (1.12.1)\n",
      "Requirement already satisfied: networkx in /home/ray/anaconda3/lib/python3.11/site-packages (from torch) (3.2.1)\n",
      "Requirement already satisfied: jinja2 in /home/ray/anaconda3/lib/python3.11/site-packages (from torch) (3.1.2)\n",
      "Requirement already satisfied: nvidia-cuda-nvrtc-cu12==12.1.105 in /home/ray/anaconda3/lib/python3.11/site-packages (from torch) (12.1.105)\n",
      "Requirement already satisfied: nvidia-cuda-runtime-cu12==12.1.105 in /home/ray/anaconda3/lib/python3.11/site-packages (from torch) (12.1.105)\n",
      "Requirement already satisfied: nvidia-cuda-cupti-cu12==12.1.105 in /home/ray/anaconda3/lib/python3.11/site-packages (from torch) (12.1.105)\n",
      "Requirement already satisfied: nvidia-cudnn-cu12==8.9.2.26 in /home/ray/anaconda3/lib/python3.11/site-packages (from torch) (8.9.2.26)\n",
      "Requirement already satisfied: nvidia-cublas-cu12==12.1.3.1 in /home/ray/anaconda3/lib/python3.11/site-packages (from torch) (12.1.3.1)\n",
      "Requirement already satisfied: nvidia-cufft-cu12==11.0.2.54 in /home/ray/anaconda3/lib/python3.11/site-packages (from torch) (11.0.2.54)\n",
      "Requirement already satisfied: nvidia-curand-cu12==10.3.2.106 in /home/ray/anaconda3/lib/python3.11/site-packages (from torch) (10.3.2.106)\n",
      "Requirement already satisfied: nvidia-cusolver-cu12==11.4.5.107 in /home/ray/anaconda3/lib/python3.11/site-packages (from torch) (11.4.5.107)\n",
      "Requirement already satisfied: nvidia-cusparse-cu12==12.1.0.106 in /home/ray/anaconda3/lib/python3.11/site-packages (from torch) (12.1.0.106)\n",
      "Requirement already satisfied: nvidia-nccl-cu12==2.20.5 in /home/ray/anaconda3/lib/python3.11/site-packages (from torch) (2.20.5)\n",
      "Requirement already satisfied: nvidia-nvtx-cu12==12.1.105 in /home/ray/anaconda3/lib/python3.11/site-packages (from torch) (12.1.105)\n",
      "Requirement already satisfied: triton==2.3.1 in /home/ray/anaconda3/lib/python3.11/site-packages (from torch) (2.3.1)\n",
      "Requirement already satisfied: nvidia-nvjitlink-cu12 in /home/ray/anaconda3/lib/python3.11/site-packages (from nvidia-cusolver-cu12==11.4.5.107->torch) (12.5.40)\n",
      "Requirement already satisfied: tokenizers<0.20,>=0.19 in /home/ray/anaconda3/lib/python3.11/site-packages (from transformers) (0.19.1)\n",
      "Requirement already satisfied: safetensors>=0.4.1 in /home/ray/anaconda3/lib/python3.11/site-packages (from transformers) (0.4.3)\n",
      "Requirement already satisfied: idna>=2.8 in /home/ray/anaconda3/lib/python3.11/site-packages (from anyio<5,>=3.5.0->openai) (3.7)\n",
      "Requirement already satisfied: attrs>=17.3.0 in /home/ray/anaconda3/lib/python3.11/site-packages (from aiohttp->datasets) (23.2.0)\n",
      "Requirement already satisfied: charset-normalizer<4.0,>=2.0 in /home/ray/anaconda3/lib/python3.11/site-packages (from aiohttp->datasets) (3.3.2)\n",
      "Requirement already satisfied: multidict<7.0,>=4.5 in /home/ray/anaconda3/lib/python3.11/site-packages (from aiohttp->datasets) (6.0.4)\n",
      "Requirement already satisfied: async-timeout<5.0,>=4.0.0a3 in /home/ray/anaconda3/lib/python3.11/site-packages (from aiohttp->datasets) (4.0.3)\n",
      "Requirement already satisfied: yarl<2.0,>=1.0 in /home/ray/anaconda3/lib/python3.11/site-packages (from aiohttp->datasets) (1.9.3)\n",
      "Requirement already satisfied: frozenlist>=1.1.1 in /home/ray/anaconda3/lib/python3.11/site-packages (from aiohttp->datasets) (1.4.0)\n",
      "Requirement already satisfied: aiosignal>=1.1.2 in /home/ray/anaconda3/lib/python3.11/site-packages (from aiohttp->datasets) (1.3.1)\n",
      "Requirement already satisfied: certifi in /home/ray/anaconda3/lib/python3.11/site-packages (from httpx<1,>=0.23.0->openai) (2023.11.17)\n",
      "Requirement already satisfied: httpcore==1.* in /home/ray/anaconda3/lib/python3.11/site-packages (from httpx<1,>=0.23.0->openai) (1.0.5)\n",
      "Requirement already satisfied: h11<0.15,>=0.13 in /home/ray/anaconda3/lib/python3.11/site-packages (from httpcore==1.*->httpx<1,>=0.23.0->openai) (0.14.0)\n",
      "Requirement already satisfied: six>=1.5 in /home/ray/anaconda3/lib/python3.11/site-packages (from python-dateutil>=2.7->matplotlib) (1.16.0)\n",
      "Requirement already satisfied: urllib3<3,>=1.21.1 in /home/ray/anaconda3/lib/python3.11/site-packages (from requests>=2.32.2->datasets) (1.26.18)\n",
      "Requirement already satisfied: MarkupSafe>=2.0 in /home/ray/anaconda3/lib/python3.11/site-packages (from jinja2->torch) (2.1.3)\n",
      "Requirement already satisfied: mpmath<1.4.0,>=1.1.0 in /home/ray/anaconda3/lib/python3.11/site-packages (from sympy->torch) (1.3.0)\n",
      "Checking if build backend supports build_editable ... \u001b[?25ldone\n",
      "\u001b[?25hBuilding wheels for collected packages: routellm\n",
      "  Building editable for routellm (pyproject.toml) ... \u001b[?25ldone\n",
      "\u001b[?25h  Created wheel for routellm: filename=routellm-0.0.1-0.editable-py3-none-any.whl size=10785 sha256=39824857223c642f188fbc67e89b5e1241e8661cb915caf5d39c371f75e2a540\n",
      "  Stored in directory: /tmp/pip-ephem-wheel-cache-7cyhtklq/wheels/8e/10/db/07a53081bdd69bb23b6b05beaa6e47cdcb04d7af2d25d7f893\n",
      "Successfully built routellm\n",
      "Installing collected packages: routellm\n",
      "Successfully installed routellm-0.0.1\n",
      "\u001b[33mWARNING: \n",
      "\u001b[93m#################\n",
      "\n",
      "ANYSCALE WARNING:\n",
      "Editable packages are not supported across cluster. This package will not be installed on worker nodes, please check our documenation for workarounds: https://bit.ly/anyscale-editable-dependencies\n",
      "\n",
      "#################\u001b[0m\n",
      "\n",
      "\u001b[0m\u001b[33m\n",
      "\u001b[0mFound credentials from IAM Role: cld_ldm5ez4edlp7yh4yiakp2u294w-cluster_node_role\n"
     ]
    }
   ],
   "source": [
    "# Clone the repository under /home/ray/default/\n",
    "!git clone https://github.com/lm-sys/RouteLLM.git /home/ray/default/RouteLLM\n",
    "\n",
    "# Change to the cloned repository directory\n",
    "%cd /home/ray/default/RouteLLM\n",
    "\n",
    "# Install the package with the specified extras\n",
    "!pip install -e .[eval]"
   ]
  },
  {
   "cell_type": "markdown",
   "metadata": {},
   "source": [
    "### Load model"
   ]
  },
  {
   "cell_type": "code",
   "execution_count": 31,
   "metadata": {},
   "outputs": [
    {
     "name": "stderr",
     "output_type": "stream",
     "text": [
      "2024-06-26 00:18:17,211\tINFO streaming_executor.py:108 -- Starting execution of Dataset. Full logs are in /tmp/ray/session_2024-06-25_17-51-29_783509_4524/logs/ray-data\n",
      "2024-06-26 00:18:17,212\tINFO streaming_executor.py:109 -- Execution plan of Dataset: InputDataBuffer[Input] -> ActorPoolMapOperator[Map(CausalLLMClassifier)]\n"
     ]
    },
    {
     "name": "stderr",
     "output_type": "stream",
     "text": [
      "2024-06-26 00:18:21,138\tERROR exceptions.py:73 -- Exception occurred in Ray Data or Ray Core internal code. If you continue to see this error, please open an issue on the Ray project GitHub page with the full stack trace below: https://github.com/ray-project/ray/issues/new/choose\n"
     ]
    },
    {
     "ename": "ActorDiedError",
     "evalue": "The actor died because of an error raised in its creation task, \u001b[36mray::_MapWorker.__init__()\u001b[39m (pid=160499, ip=10.0.61.128, actor_id=062ee531e8370977adb2c39206000000, repr=MapWorker(Map(CausalLLMClassifier)))\n           ^^^^^^^^^^^^^^^^^^^^^^^^^^^^^^^^^^^^\n           ^^^^^^^^^^^^^^^^^^^^^^^^^^^^^^^\n  File \"/home/ray/anaconda3/lib/python3.11/site-packages/ray/data/_internal/execution/operators/actor_pool_map_operator.py\", line 350, in __init__\n    self._map_transformer.init()\n  File \"/home/ray/anaconda3/lib/python3.11/site-packages/ray/data/_internal/execution/operators/map_transformer.py\", line 126, in init\n    self._init_fn()\n  File \"/home/ray/anaconda3/lib/python3.11/site-packages/ray/data/_internal/planner/plan_udf_map_op.py\", line 120, in init_fn\n    ray.data._cached_fn = op_fn(\n                          ^^^^^^\n  File \"/home/ray/anaconda3/lib/python3.11/site-packages/ray/data/_internal/execution/util.py\", line 70, in __init__\n    super().__init__(*args, **kwargs)\n  File \"/home/ray/default/RouteLLM/routellm/routers/causal_llm/model.py\", line 43, in __init__\n    model = get_model(config=config, model_ckpt=ckpt_local_path)\n            ^^^^^^^^^^^^^^^^^^^^^^^^^^^^^^^^^^^^^^^^^^^^^^^^^^^^\n  File \"/home/ray/default/RouteLLM/routellm/routers/causal_llm/llm_utils.py\", line 33, in get_model\n    return AutoModelForCausalLM.from_pretrained(\n           ^^^^^^^^^^^^^^^^^^^^^^^^^^^^^^^^^^^^^\n  File \"/home/ray/anaconda3/lib/python3.11/site-packages/transformers/models/auto/auto_factory.py\", line 563, in from_pretrained\n    return model_class.from_pretrained(\n           ^^^^^^^^^^^^^^^^^^^^^^^^^^^^\n  File \"/home/ray/anaconda3/lib/python3.11/site-packages/transformers/modeling_utils.py\", line 3620, in from_pretrained\n    config = cls._autoset_attn_implementation(\n             ^^^^^^^^^^^^^^^^^^^^^^^^^^^^^^^^^\n  File \"/home/ray/anaconda3/lib/python3.11/site-packages/transformers/modeling_utils.py\", line 1469, in _autoset_attn_implementation\n    cls._check_and_enable_flash_attn_2(\n  File \"/home/ray/anaconda3/lib/python3.11/site-packages/transformers/modeling_utils.py\", line 1571, in _check_and_enable_flash_attn_2\n    raise ImportError(f\"{preface} the package flash_attn seems to be not installed. {install_message}\")\nImportError: FlashAttention2 has been toggled on, but it cannot be used due to the following error: the package flash_attn seems to be not installed. Please refer to the documentation of https://huggingface.co/docs/transformers/perf_infer_gpu_one#flashattention-2 to install Flash Attention 2.",
     "output_type": "error",
     "traceback": [
      "\u001b[0;31m---------------------------------------------------------------------------\u001b[0m",
      "\u001b[0;31mSystemException\u001b[0m                           Traceback (most recent call last)",
      "\u001b[0;31mSystemException\u001b[0m: ",
      "\nThe above exception was the direct cause of the following exception:\n",
      "\u001b[0;31mActorDiedError\u001b[0m                            Traceback (most recent call last)",
      "Cell \u001b[0;32mIn[31], line 13\u001b[0m\n\u001b[1;32m     10\u001b[0m \u001b[38;5;28;01mfrom\u001b[39;00m \u001b[38;5;21;01msrc\u001b[39;00m\u001b[38;5;21;01m.\u001b[39;00m\u001b[38;5;21;01mbatch_inference\u001b[39;00m \u001b[38;5;28;01mimport\u001b[39;00m batch_llm_inference\n\u001b[1;32m     12\u001b[0m valid_df_sampled \u001b[38;5;241m=\u001b[39m train_df\u001b[38;5;241m.\u001b[39msample(n\u001b[38;5;241m=\u001b[39m\u001b[38;5;241m100\u001b[39m, random_state\u001b[38;5;241m=\u001b[39m\u001b[38;5;241m42\u001b[39m)\n\u001b[0;32m---> 13\u001b[0m result \u001b[38;5;241m=\u001b[39m \u001b[43mbatch_llm_inference\u001b[49m\u001b[43m(\u001b[49m\u001b[43mvalid_df_sampled\u001b[49m\u001b[43m)\u001b[49m\n\u001b[1;32m     14\u001b[0m result\n",
      "File \u001b[0;32m~/default/templates/templates/llm-router/src/batch_inference.py:53\u001b[0m, in \u001b[0;36mbatch_llm_inference\u001b[0;34m(eval_data_df)\u001b[0m\n\u001b[1;32m     46\u001b[0m eval_ds \u001b[38;5;241m=\u001b[39m ray\u001b[38;5;241m.\u001b[39mdata\u001b[38;5;241m.\u001b[39mfrom_pandas(eval_data_df, override_num_blocks\u001b[38;5;241m=\u001b[39m\u001b[38;5;241m8\u001b[39m)\n\u001b[1;32m     47\u001b[0m eval_ds \u001b[38;5;241m=\u001b[39m eval_ds\u001b[38;5;241m.\u001b[39mmap(\n\u001b[1;32m     48\u001b[0m     CausalLLMClassifier,\n\u001b[1;32m     49\u001b[0m     fn_constructor_kwargs\u001b[38;5;241m=\u001b[39mfn_constructor_kwargs,\n\u001b[1;32m     50\u001b[0m     num_gpus\u001b[38;5;241m=\u001b[39m\u001b[38;5;241m1\u001b[39m,  \u001b[38;5;66;03m# each worker on a single gpu\u001b[39;00m\n\u001b[1;32m     51\u001b[0m     concurrency\u001b[38;5;241m=\u001b[39mtorch\u001b[38;5;241m.\u001b[39mcuda\u001b[38;5;241m.\u001b[39mdevice_count(),\n\u001b[1;32m     52\u001b[0m )\n\u001b[0;32m---> 53\u001b[0m result_df \u001b[38;5;241m=\u001b[39m \u001b[43meval_ds\u001b[49m\u001b[38;5;241;43m.\u001b[39;49m\u001b[43mto_pandas\u001b[49m\u001b[43m(\u001b[49m\u001b[43m)\u001b[49m\n\u001b[1;32m     55\u001b[0m \u001b[38;5;28mprint\u001b[39m(\u001b[38;5;124mf\u001b[39m\u001b[38;5;124m\"\u001b[39m\u001b[38;5;124mDone batch inference in \u001b[39m\u001b[38;5;132;01m{\u001b[39;00mtime\u001b[38;5;241m.\u001b[39mtime() \u001b[38;5;241m-\u001b[39m s\u001b[38;5;132;01m}\u001b[39;00m\u001b[38;5;124m seconds.\u001b[39m\u001b[38;5;124m\"\u001b[39m)\n\u001b[1;32m     57\u001b[0m \u001b[38;5;66;03m# result_df.to_csv(f\"{output_fname}.csv\", index=False)\u001b[39;00m\n",
      "File \u001b[0;32m~/anaconda3/lib/python3.11/site-packages/ray/data/dataset.py:4402\u001b[0m, in \u001b[0;36mDataset.to_pandas\u001b[0;34m(self, limit)\u001b[0m\n\u001b[1;32m   4371\u001b[0m \u001b[38;5;129m@ConsumptionAPI\u001b[39m(pattern\u001b[38;5;241m=\u001b[39m\u001b[38;5;124m\"\u001b[39m\u001b[38;5;124mTime complexity:\u001b[39m\u001b[38;5;124m\"\u001b[39m)\n\u001b[1;32m   4372\u001b[0m \u001b[38;5;28;01mdef\u001b[39;00m \u001b[38;5;21mto_pandas\u001b[39m(\u001b[38;5;28mself\u001b[39m, limit: \u001b[38;5;28mint\u001b[39m \u001b[38;5;241m=\u001b[39m \u001b[38;5;28;01mNone\u001b[39;00m) \u001b[38;5;241m-\u001b[39m\u001b[38;5;241m>\u001b[39m \u001b[38;5;124m\"\u001b[39m\u001b[38;5;124mpandas.DataFrame\u001b[39m\u001b[38;5;124m\"\u001b[39m:\n\u001b[1;32m   4373\u001b[0m     \u001b[38;5;124;03m\"\"\"Convert this :class:`~ray.data.Dataset` to a single pandas DataFrame.\u001b[39;00m\n\u001b[1;32m   4374\u001b[0m \n\u001b[1;32m   4375\u001b[0m \u001b[38;5;124;03m    This method errors if the number of rows exceeds the provided ``limit``.\u001b[39;00m\n\u001b[0;32m   (...)\u001b[0m\n\u001b[1;32m   4400\u001b[0m \u001b[38;5;124;03m            ``limit``.\u001b[39;00m\n\u001b[1;32m   4401\u001b[0m \u001b[38;5;124;03m    \"\"\"\u001b[39;00m\n\u001b[0;32m-> 4402\u001b[0m     count \u001b[38;5;241m=\u001b[39m \u001b[38;5;28;43mself\u001b[39;49m\u001b[38;5;241;43m.\u001b[39;49m\u001b[43mcount\u001b[49m\u001b[43m(\u001b[49m\u001b[43m)\u001b[49m\n\u001b[1;32m   4403\u001b[0m     \u001b[38;5;28;01mif\u001b[39;00m limit \u001b[38;5;129;01mis\u001b[39;00m \u001b[38;5;129;01mnot\u001b[39;00m \u001b[38;5;28;01mNone\u001b[39;00m \u001b[38;5;129;01mand\u001b[39;00m count \u001b[38;5;241m>\u001b[39m limit:\n\u001b[1;32m   4404\u001b[0m         \u001b[38;5;28;01mraise\u001b[39;00m \u001b[38;5;167;01mValueError\u001b[39;00m(\n\u001b[1;32m   4405\u001b[0m             \u001b[38;5;124mf\u001b[39m\u001b[38;5;124m\"\u001b[39m\u001b[38;5;124mthe dataset has more than the given limit of \u001b[39m\u001b[38;5;132;01m{\u001b[39;00mlimit\u001b[38;5;132;01m}\u001b[39;00m\u001b[38;5;124m \u001b[39m\u001b[38;5;124m\"\u001b[39m\n\u001b[1;32m   4406\u001b[0m             \u001b[38;5;124mf\u001b[39m\u001b[38;5;124m\"\u001b[39m\u001b[38;5;124mrows: \u001b[39m\u001b[38;5;132;01m{\u001b[39;00mcount\u001b[38;5;132;01m}\u001b[39;00m\u001b[38;5;124m. If you are sure that a DataFrame with \u001b[39m\u001b[38;5;124m\"\u001b[39m\n\u001b[1;32m   4407\u001b[0m             \u001b[38;5;124mf\u001b[39m\u001b[38;5;124m\"\u001b[39m\u001b[38;5;132;01m{\u001b[39;00mcount\u001b[38;5;132;01m}\u001b[39;00m\u001b[38;5;124m rows will fit in local memory, set ds.to_pandas(limit=None) \u001b[39m\u001b[38;5;124m\"\u001b[39m\n\u001b[1;32m   4408\u001b[0m             \u001b[38;5;124m\"\u001b[39m\u001b[38;5;124mto disable limits.\u001b[39m\u001b[38;5;124m\"\u001b[39m\n\u001b[1;32m   4409\u001b[0m         )\n",
      "File \u001b[0;32m~/anaconda3/lib/python3.11/site-packages/ray/data/dataset.py:2562\u001b[0m, in \u001b[0;36mDataset.count\u001b[0;34m(self)\u001b[0m\n\u001b[1;32m   2556\u001b[0m     \u001b[38;5;28;01mreturn\u001b[39;00m meta_count\n\u001b[1;32m   2558\u001b[0m get_num_rows \u001b[38;5;241m=\u001b[39m cached_remote_fn(_get_num_rows)\n\u001b[1;32m   2560\u001b[0m \u001b[38;5;28;01mreturn\u001b[39;00m \u001b[38;5;28msum\u001b[39m(\n\u001b[1;32m   2561\u001b[0m     ray\u001b[38;5;241m.\u001b[39mget(\n\u001b[0;32m-> 2562\u001b[0m         [get_num_rows\u001b[38;5;241m.\u001b[39mremote(block) \u001b[38;5;28;01mfor\u001b[39;00m block \u001b[38;5;129;01min\u001b[39;00m \u001b[38;5;28;43mself\u001b[39;49m\u001b[38;5;241;43m.\u001b[39;49m\u001b[43mget_internal_block_refs\u001b[49m\u001b[43m(\u001b[49m\u001b[43m)\u001b[49m]\n\u001b[1;32m   2563\u001b[0m     )\n\u001b[1;32m   2564\u001b[0m )\n",
      "File \u001b[0;32m~/anaconda3/lib/python3.11/site-packages/ray/data/dataset.py:4659\u001b[0m, in \u001b[0;36mDataset.get_internal_block_refs\u001b[0;34m(self)\u001b[0m\n\u001b[1;32m   4640\u001b[0m \u001b[38;5;129m@ConsumptionAPI\u001b[39m(pattern\u001b[38;5;241m=\u001b[39m\u001b[38;5;124m\"\u001b[39m\u001b[38;5;124mTime complexity:\u001b[39m\u001b[38;5;124m\"\u001b[39m)\n\u001b[1;32m   4641\u001b[0m \u001b[38;5;129m@DeveloperAPI\u001b[39m\n\u001b[1;32m   4642\u001b[0m \u001b[38;5;28;01mdef\u001b[39;00m \u001b[38;5;21mget_internal_block_refs\u001b[39m(\u001b[38;5;28mself\u001b[39m) \u001b[38;5;241m-\u001b[39m\u001b[38;5;241m>\u001b[39m List[ObjectRef[Block]]:\n\u001b[1;32m   4643\u001b[0m     \u001b[38;5;124;03m\"\"\"Get a list of references to the underlying blocks of this dataset.\u001b[39;00m\n\u001b[1;32m   4644\u001b[0m \n\u001b[1;32m   4645\u001b[0m \u001b[38;5;124;03m    This function can be used for zero-copy access to the data. It blocks\u001b[39;00m\n\u001b[0;32m   (...)\u001b[0m\n\u001b[1;32m   4657\u001b[0m \u001b[38;5;124;03m        A list of references to this dataset's blocks.\u001b[39;00m\n\u001b[1;32m   4658\u001b[0m \u001b[38;5;124;03m    \"\"\"\u001b[39;00m\n\u001b[0;32m-> 4659\u001b[0m     block_refs \u001b[38;5;241m=\u001b[39m \u001b[38;5;28;43mself\u001b[39;49m\u001b[38;5;241;43m.\u001b[39;49m\u001b[43m_plan\u001b[49m\u001b[38;5;241;43m.\u001b[39;49m\u001b[43mexecute\u001b[49m\u001b[43m(\u001b[49m\u001b[43m)\u001b[49m\u001b[38;5;241m.\u001b[39mblock_refs\n\u001b[1;32m   4660\u001b[0m     \u001b[38;5;28mself\u001b[39m\u001b[38;5;241m.\u001b[39m_synchronize_progress_bar()\n\u001b[1;32m   4661\u001b[0m     \u001b[38;5;28;01mreturn\u001b[39;00m block_refs\n",
      "File \u001b[0;32m~/anaconda3/lib/python3.11/site-packages/ray/data/exceptions.py:86\u001b[0m, in \u001b[0;36momit_traceback_stdout.<locals>.handle_trace\u001b[0;34m(*args, **kwargs)\u001b[0m\n\u001b[1;32m     84\u001b[0m     \u001b[38;5;28;01mraise\u001b[39;00m e\u001b[38;5;241m.\u001b[39mwith_traceback(\u001b[38;5;28;01mNone\u001b[39;00m)\n\u001b[1;32m     85\u001b[0m \u001b[38;5;28;01melse\u001b[39;00m:\n\u001b[0;32m---> 86\u001b[0m     \u001b[38;5;28;01mraise\u001b[39;00m e\u001b[38;5;241m.\u001b[39mwith_traceback(\u001b[38;5;28;01mNone\u001b[39;00m) \u001b[38;5;28;01mfrom\u001b[39;00m \u001b[38;5;21;01mSystemException\u001b[39;00m()\n",
      "\u001b[0;31mActorDiedError\u001b[0m: The actor died because of an error raised in its creation task, \u001b[36mray::_MapWorker.__init__()\u001b[39m (pid=160499, ip=10.0.61.128, actor_id=062ee531e8370977adb2c39206000000, repr=MapWorker(Map(CausalLLMClassifier)))\n           ^^^^^^^^^^^^^^^^^^^^^^^^^^^^^^^^^^^^\n           ^^^^^^^^^^^^^^^^^^^^^^^^^^^^^^^\n  File \"/home/ray/anaconda3/lib/python3.11/site-packages/ray/data/_internal/execution/operators/actor_pool_map_operator.py\", line 350, in __init__\n    self._map_transformer.init()\n  File \"/home/ray/anaconda3/lib/python3.11/site-packages/ray/data/_internal/execution/operators/map_transformer.py\", line 126, in init\n    self._init_fn()\n  File \"/home/ray/anaconda3/lib/python3.11/site-packages/ray/data/_internal/planner/plan_udf_map_op.py\", line 120, in init_fn\n    ray.data._cached_fn = op_fn(\n                          ^^^^^^\n  File \"/home/ray/anaconda3/lib/python3.11/site-packages/ray/data/_internal/execution/util.py\", line 70, in __init__\n    super().__init__(*args, **kwargs)\n  File \"/home/ray/default/RouteLLM/routellm/routers/causal_llm/model.py\", line 43, in __init__\n    model = get_model(config=config, model_ckpt=ckpt_local_path)\n            ^^^^^^^^^^^^^^^^^^^^^^^^^^^^^^^^^^^^^^^^^^^^^^^^^^^^\n  File \"/home/ray/default/RouteLLM/routellm/routers/causal_llm/llm_utils.py\", line 33, in get_model\n    return AutoModelForCausalLM.from_pretrained(\n           ^^^^^^^^^^^^^^^^^^^^^^^^^^^^^^^^^^^^^\n  File \"/home/ray/anaconda3/lib/python3.11/site-packages/transformers/models/auto/auto_factory.py\", line 563, in from_pretrained\n    return model_class.from_pretrained(\n           ^^^^^^^^^^^^^^^^^^^^^^^^^^^^\n  File \"/home/ray/anaconda3/lib/python3.11/site-packages/transformers/modeling_utils.py\", line 3620, in from_pretrained\n    config = cls._autoset_attn_implementation(\n             ^^^^^^^^^^^^^^^^^^^^^^^^^^^^^^^^^\n  File \"/home/ray/anaconda3/lib/python3.11/site-packages/transformers/modeling_utils.py\", line 1469, in _autoset_attn_implementation\n    cls._check_and_enable_flash_attn_2(\n  File \"/home/ray/anaconda3/lib/python3.11/site-packages/transformers/modeling_utils.py\", line 1571, in _check_and_enable_flash_attn_2\n    raise ImportError(f\"{preface} the package flash_attn seems to be not installed. {install_message}\")\nImportError: FlashAttention2 has been toggled on, but it cannot be used due to the following error: the package flash_attn seems to be not installed. Please refer to the documentation of https://huggingface.co/docs/transformers/perf_infer_gpu_one#flashattention-2 to install Flash Attention 2."
     ]
    }
   ],
   "source": [
    "\n",
    "import os\n",
    "from src.batch_inference import single_example_debug\n",
    "\n",
    "os.environ[\"LLAMA2_HF_TOKEN\"] = \"\"\n",
    "\n",
    "# input = balanced_valid_df.sample(n=1, random_state=42).to_dict(orient='records')[0]\n",
    "# input\n",
    "# single_example_debug(input)\n",
    "\n",
    "from src.batch_inference import batch_llm_inference\n",
    "\n",
    "valid_df_sampled = train_df.sample(n=100, random_state=42)\n",
    "result = batch_llm_inference(valid_df_sampled)\n",
    "result\n"
   ]
  },
  {
   "cell_type": "markdown",
   "metadata": {},
   "source": [
    "### Run evaluations"
   ]
  },
  {
   "cell_type": "code",
   "execution_count": 29,
   "metadata": {},
   "outputs": [],
   "source": [
    "from collections import OrderedDict\n",
    "import numpy as np\n",
    "\n",
    "\n",
    "router_predictions = OrderedDict()\n",
    "rng = np.random.RandomState(123)\n",
    "router_predictions[\"Random\"] = rng.uniform(0, 1, len(valid_df_sampled))\n",
    "router_predictions[\"CausalLLM Router\"] = result['binary_prob'].to_numpy()"
   ]
  },
  {
   "cell_type": "code",
   "execution_count": 30,
   "metadata": {},
   "outputs": [
    {
     "data": {
      "image/png": "[encoded data removed]",
      "text/plain": [
       "<Figure size 640x480 with 1 Axes>"
      ]
     },
     "metadata": {},
     "output_type": "display_data"
    }
   ],
   "source": [
    "from src.evaluation_metrics import plot_quality_cost_curve\n",
    "\n",
    "oss_model_scores = valid_df_sampled[\"mixtral_score\"].to_numpy()\n",
    "closed_model_scores = np.ones(len(valid_df_sampled)) * 5.0\n",
    "\n",
    "plot_quality_cost_curve(oss_model_scores, closed_model_scores, router_predictions)"
   ]
  },
  {
   "cell_type": "code",
   "execution_count": null,
   "metadata": {},
   "outputs": [],
   "source": []
  }
 ],
 "metadata": {
  "kernelspec": {
   "display_name": "Python 3 (ipykernel)",
   "language": "python",
   "name": "python3"
  },
  "language_info": {
   "codemirror_mode": {
    "name": "ipython",
    "version": 3
   },
   "file_extension": ".py",
   "mimetype": "text/x-python",
   "name": "python",
   "nbconvert_exporter": "python",
   "pygments_lexer": "ipython3",
   "version": "3.10.14"
  }
 },
 "nbformat": 4,
 "nbformat_minor": 4
}
