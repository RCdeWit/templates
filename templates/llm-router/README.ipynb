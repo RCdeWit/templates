{
 "cells": [
  {
   "cell_type": "code",
   "execution_count": 1,
   "metadata": {},
   "outputs": [],
   "source": [
    "%load_ext autoreload\n",
    "%autoreload 2"
   ]
  },
  {
   "cell_type": "markdown",
   "metadata": {},
   "source": [
    "# Background\n",
    "\n",
    "When building Large Language Model (LLM) applications, we strive to balance between achieving the highest response quality while adhering to a limited cost budget. Closed models like GPT-4 are renowned for their superior quality, but they can become prohibitively expensive, especially when handling a large volume of queries. On the other hand, Open Source Software (OSS) models are more cost-effective but may not deliver the same quality, particularly for complex or domain-specific queries.\n",
    "\n",
    "A \"smart router\" addresses this challenge by processing user queries and deciding whether to route them to a closed LLM or an OSS LLM, depending on the query's complexity or domain. Here’s a schematic representation of a smart router:\n",
    "![Smart Router](assets/router_schema.png)\n",
    "\n",
    "Given a set of user queries, a smart router enables generating high-quality LLM responses while minimizing the overall cost.\n",
    "\n",
    "# Approach\n",
    "\n",
    "In this tutorial, we'll demonstrate how to train a smart router on the Anyscale platform. We make the following design choices:\n",
    "\n",
    "1. **Model Choices**: We’ll use GPT-4 as an example of a closed LLM and Mixtral-8x7B as the OSS LLM, so our smart router will route between these two models.\n",
    "2. **Response Quality Rating**: We'll quantify the quality of an LLM response on a scale of 1 to 5 stars, with higher scores indicating better quality. For simplicity, we'll assume that GPT-4 always achieves a 5-star rating, so it serves as a reference for Mixtral-8x7B.\n",
    "3. **Smart Router Model**: We'll finetune a Llama3-8B model as our smart router and leverage Anyscale's powerful API. Our research (see our [arXiv paper](put link to arxiv paper)) shows that this model offers superior routing performance compared to smaller architectures.\n",
    "\n",
    "More concretely, the objective of a smart router is to direct simple queries to Mixtral-8x7B, thereby maintaining high overall response quality (e.g., an average score of 4.8/5) while significantly reducing costs (e.g., by 50%).\n",
    "\n"
   ]
  },
  {
   "cell_type": "markdown",
   "metadata": {},
   "source": [
    "# Table of Contents\n",
    "\n",
    "### Steps to Train a Smart Router\n",
    "\n",
    "1. [**Prepare labeled data**](#generate-labeled-data): We describe in this section how we generate synthetic labeled data to train the smart router model.\n",
    "\n",
    "2. [**Finetune a router model**](#finetune-router-model)\n",
    "TODO\n",
    "\n",
    "1. [**Evaluate router model offline**](#evaluate-router-model-offline)\n",
    "TODO\n",
    "\n"
   ]
  },
  {
   "cell_type": "markdown",
   "metadata": {},
   "source": [
    "# Step 1: Prepare Labeled Data <a id=\"generate-labeled-data\"></a>\n",
    "\n",
    "Our smart router essentially functions as a binary classifier, deciding whether to route a query to GPT-4 or Mixtral-8x7B based on the query text. Initially, we considered labeled data in the format `(query, routing_label)`, where `routing_label` is 1 if the query should be routed to Mixtral-8x7B and 0 if it should be routed to GPT-4.\n",
    "\n",
    "However, our early experiments revealed that *binary labels do not provide sufficient signal for training a robust router model*. Therefore, we adopted a different labeling approach using a *1-5 scoring system*, which reflects how well Mixtral-8x7B can effectively respond to the user's query. More specifically:\n",
    "\n",
    "- **4-5**: Mixtral-8x7B produces a very strong answer, showing deep understanding, creativity, detailed insight, and high relevance.\n",
    "- **3**: Mixtral-8x7B provides an adequate answer with moderate detail, relevance, and factual accuracy.\n",
    "- **1-2**: Mixtral-8x7B struggles to produce a strong answer due to the question's difficulty, vagueness, or the model's limitations.\n",
    "\n",
    "We use labeled samples in the format `(query, score_label)`. The `routing_label` can be derived from the `score_label` by setting a score threshold for quality, i.e. `routing_label = 1 if score_label >= 4 else 0`.\n",
    "\n",
    "In the following, we will explain how we prepare our labeled dataset in detail.\n"
   ]
  },
  {
   "cell_type": "markdown",
   "metadata": {},
   "source": [
    "## 1.1: Query Dataset\n",
    "\n",
    "We want our smart router to be effective in open-ended chat domains. So, our first step is to collect a set of generic queries from the [Nectar dataset](https://huggingface.co/datasets/berkeley-nest/Nectar). We chose the Nectar dataset for two reasons: it combines queries from many different domains, including open-ended chat, and it has responses from many models, including over 191K responses from GPT-4."
   ]
  },
  {
   "cell_type": "code",
   "execution_count": 2,
   "metadata": {},
   "outputs": [
    {
     "data": {
      "text/html": [
       "<div>\n",
       "<style scoped>\n",
       "    .dataframe tbody tr th:only-of-type {\n",
       "        vertical-align: middle;\n",
       "    }\n",
       "\n",
       "    .dataframe tbody tr th {\n",
       "        vertical-align: top;\n",
       "    }\n",
       "\n",
       "    .dataframe thead th {\n",
       "        text-align: right;\n",
       "    }\n",
       "</style>\n",
       "<table border=\"1\" class=\"dataframe\">\n",
       "  <thead>\n",
       "    <tr style=\"text-align: right;\">\n",
       "      <th></th>\n",
       "      <th>prompt</th>\n",
       "      <th>answers</th>\n",
       "      <th>turns</th>\n",
       "      <th>num_responses</th>\n",
       "      <th>source</th>\n",
       "      <th>good_natured</th>\n",
       "    </tr>\n",
       "  </thead>\n",
       "  <tbody>\n",
       "    <tr>\n",
       "      <th>0</th>\n",
       "      <td>\\n\\nHuman: 0.002 = 1000 \\n1 = x?\\n\\nAssistant:</td>\n",
       "      <td>[{'answer': 'To find the value of x, we can set up a proportion using the given information:\n",
       "\n",
       "0.002/1000 = 1/x\n",
       "\n",
       "To solve for x, we can cross multiply:\n",
       "\n",
       "0.002 * x = 1000 * 1\n",
       "\n",
       "0.002x = 1000\n",
       "\n",
       "Dividing both sides by 0.002:\n",
       "\n",
       "x = 1000 / 0.002\n",
       "\n",
       "x = 500,000\n",
       "\n",
       "Therefore, 1 is equal to 500,000 in this proportion.', 'model': 'gpt-3.5-turbo', 'rank': 1.0}, {'answer': 'To solve for x in this equation, you can use cross-multiplication. Here's how:\n",
       "\n",
       "0.002 / 1 = 1000 / x\n",
       "\n",
       "Cross-multiplication gives:\n",
       "\n",
       "0.002 * x = 1000\n",
       "\n",
       "To solve for x, divide both sides by 0.002:\n",
       "\n",
       "x = 1000 / 0.002\n",
       "\n",
       "So, x equals 500,000.', 'model': 'gpt-4-0613', 'rank': 2.0}, {'answer': 'This looks like a proportion. To solve for x, you can set up a proportion equation:\n",
       "\n",
       "0.002 / 1 = 1000 / x\n",
       "\n",
       "Now, cross-multiply:\n",
       "\n",
       "0.002 \\* x = 1 \\* 1000\n",
       "\n",
       "Then, solve for x:\n",
       "\n",
       "0.002x = 1000\n",
       "\n",
       "x = 1000 / 0.002\n",
       "\n",
       "x = 500,000', 'model': 'gpt-3.5-turbo', 'rank': 3.0}, {'answer': 'If 0.002 equals 1000, then 1 would equal 500,000.', 'model': 'gpt-4', 'rank': 4.0}, {'answer': 'I apologize, but the equation you provided is not correct.\n",
       "\n",
       "0.002 is equal to 0.002, not 1000.\n",
       "\n",
       "1 is equal to x, not a number.\n",
       "\n",
       "Can you please provide a correct equation or problem for me to solve?', 'model': 'llama-2-7b-chat', 'rank': 5.0}, {'answer': '0.001 = x', 'model': 'gpt-3.5-turbo-instruct', 'rank': 6.0}, {'answer': 'It seems like you are asking for the value of x in the equation x = 1/0.002. \n",
       "\n",
       "To solve this equation, you can divide both sides by 0.002 to get: \n",
       "\n",
       "x = 1/0.002 \n",
       "x = 500 \n",
       "\n",
       "Therefore, x = 500.', 'model': 'mistral-7b-instruct-v0.1', 'rank': 7.0}]</td>\n",
       "      <td>1</td>\n",
       "      <td>7</td>\n",
       "      <td>[sharegpt]</td>\n",
       "      <td>True</td>\n",
       "    </tr>\n",
       "  </tbody>\n",
       "</table>\n",
       "</div>"
      ],
      "text/plain": [
       "                                            prompt  \\\n",
       "0  \\n\\nHuman: 0.002 = 1000 \\n1 = x?\\n\\nAssistant:    \n",
       "\n",
       "                                                                                                                                                                                                                                                                                                                                                                                                                                                                                                                                                                                                                                                                                                                                                                                                                                                                                                                                                                                                                                                                                                                                                                                                                                                                                                                                                                                                                                                                                                                                                                                                                                         answers  \\\n",
       "0  [{'answer': 'To find the value of x, we can set up a proportion using the given information:\n",
       "\n",
       "0.002/1000 = 1/x\n",
       "\n",
       "To solve for x, we can cross multiply:\n",
       "\n",
       "0.002 * x = 1000 * 1\n",
       "\n",
       "0.002x = 1000\n",
       "\n",
       "Dividing both sides by 0.002:\n",
       "\n",
       "x = 1000 / 0.002\n",
       "\n",
       "x = 500,000\n",
       "\n",
       "Therefore, 1 is equal to 500,000 in this proportion.', 'model': 'gpt-3.5-turbo', 'rank': 1.0}, {'answer': 'To solve for x in this equation, you can use cross-multiplication. Here's how:\n",
       "\n",
       "0.002 / 1 = 1000 / x\n",
       "\n",
       "Cross-multiplication gives:\n",
       "\n",
       "0.002 * x = 1000\n",
       "\n",
       "To solve for x, divide both sides by 0.002:\n",
       "\n",
       "x = 1000 / 0.002\n",
       "\n",
       "So, x equals 500,000.', 'model': 'gpt-4-0613', 'rank': 2.0}, {'answer': 'This looks like a proportion. To solve for x, you can set up a proportion equation:\n",
       "\n",
       "0.002 / 1 = 1000 / x\n",
       "\n",
       "Now, cross-multiply:\n",
       "\n",
       "0.002 \\* x = 1 \\* 1000\n",
       "\n",
       "Then, solve for x:\n",
       "\n",
       "0.002x = 1000\n",
       "\n",
       "x = 1000 / 0.002\n",
       "\n",
       "x = 500,000', 'model': 'gpt-3.5-turbo', 'rank': 3.0}, {'answer': 'If 0.002 equals 1000, then 1 would equal 500,000.', 'model': 'gpt-4', 'rank': 4.0}, {'answer': 'I apologize, but the equation you provided is not correct.\n",
       "\n",
       "0.002 is equal to 0.002, not 1000.\n",
       "\n",
       "1 is equal to x, not a number.\n",
       "\n",
       "Can you please provide a correct equation or problem for me to solve?', 'model': 'llama-2-7b-chat', 'rank': 5.0}, {'answer': '0.001 = x', 'model': 'gpt-3.5-turbo-instruct', 'rank': 6.0}, {'answer': 'It seems like you are asking for the value of x in the equation x = 1/0.002. \n",
       "\n",
       "To solve this equation, you can divide both sides by 0.002 to get: \n",
       "\n",
       "x = 1/0.002 \n",
       "x = 500 \n",
       "\n",
       "Therefore, x = 500.', 'model': 'mistral-7b-instruct-v0.1', 'rank': 7.0}]   \n",
       "\n",
       "   turns  num_responses      source  good_natured  \n",
       "0      1              7  [sharegpt]          True  "
      ]
     },
     "metadata": {},
     "output_type": "display_data"
    },
    {
     "name": "stdout",
     "output_type": "stream",
     "text": [
      "Number of queries with GPT-4 responses: 191487\n"
     ]
    }
   ],
   "source": [
    "from utils import load_and_display_nectar\n",
    "\n",
    "nectar_df = load_and_display_nectar()"
   ]
  },
  {
   "cell_type": "markdown",
   "metadata": {},
   "source": [
    "## 1.2 Data Preprocessing\n",
    "\n",
    "We will use a subset of the Nectar data that includes responses from GPT-4, as these will be used to generate scores (as seen below). We will process this data by focusing on single-turn conversations, filtering for good-natured interactions, and cleaning up the prompts and responses to maintain high quality. Additionally, we will sample a small subset from the dataset for the purpose of this tutorial; however, you can skip sampling to work with the full dataset."
   ]
  },
  {
   "cell_type": "code",
   "execution_count": 3,
   "metadata": {},
   "outputs": [],
   "source": [
    "from utils import preprocess_nectar\n",
    "\n",
    "nectar_gpt4_df = preprocess_nectar(\n",
    "    nectar_df, model=\"gpt-4\", response_column=\"gpt4_response\"\n",
    ")\n",
    "\n",
    "# Sample a small subset from the dataset for the purpose of this tutorial\n",
    "N_SUBSET = 30\n",
    "dataset_df = nectar_gpt4_df.sample(N_SUBSET, random_state=42)"
   ]
  },
  {
   "cell_type": "markdown",
   "metadata": {},
   "source": [
    "## 1.3 Data Labeling\n",
    "\n",
    "We don't have human labels for scores, so we will use the [LLM-as-a-Judge approach](https://arxiv.org/abs/2306.05685). GPT-4 will act as an evaluator, reviewing the query and Mixtral's response to provide a score from 1-5. As shown in the paper, the most robust way to get labels is by providing a reference answer for comparison. Here, GPT-4's own response serves as the reference, and Mixtral's response is evaluated against it.\n",
    "\n",
    "There are two main steps in this process:\n",
    "1. **Generate Mixtral-8x7B responses for all queries**: We will use an online batch-inference method utilizing Ray and Anyscale endpoints.\n",
    "2. **Generate LLM-as-a-Judge labels**: We will ask GPT-4 to evaluate the Mixtral responses against its own reference answers and provide a score from 1-5."
   ]
  },
  {
   "cell_type": "markdown",
   "metadata": {},
   "source": [
    "### Generate Mixtral-8x7B Responses"
   ]
  },
  {
   "cell_type": "code",
   "execution_count": 4,
   "metadata": {},
   "outputs": [
    {
     "name": "stdout",
     "output_type": "stream",
     "text": [
      "Starting batch inference on 30 queries...\n"
     ]
    },
    {
     "name": "stderr",
     "output_type": "stream",
     "text": [
      "2024-06-20 16:49:48,001\tINFO worker.py:1568 -- Connecting to existing Ray cluster at address: 10.0.0.22:6379...\n",
      "2024-06-20 16:49:48,009\tINFO worker.py:1744 -- Connected to Ray cluster. View the dashboard at \u001b[1m\u001b[32mhttps://session-3mbbhc76us4jta3ixstn8kjsxy.i.anyscaleuserdata.com \u001b[39m\u001b[22m\n",
      "2024-06-20 16:49:48,016\tINFO packaging.py:358 -- Pushing file package 'gcs://_ray_pkg_308c76ce861d8c0b8f13e9b003839287080328e0.zip' (0.30MiB) to Ray cluster...\n",
      "2024-06-20 16:49:48,018\tINFO packaging.py:371 -- Successfully pushed file package 'gcs://_ray_pkg_308c76ce861d8c0b8f13e9b003839287080328e0.zip'.\n"
     ]
    },
    {
     "name": "stdout",
     "output_type": "stream",
     "text": [
      "# queries un-processed: 29, in-progress: 1, ready: 0\n",
      "# queries un-processed: 28, in-progress: 2, ready: 0\n",
      "# queries un-processed: 27, in-progress: 3, ready: 0\n",
      "# queries un-processed: 26, in-progress: 4, ready: 0\n",
      "# queries un-processed: 25, in-progress: 5, ready: 0\n",
      "# queries un-processed: 24, in-progress: 6, ready: 0\n",
      "# queries un-processed: 23, in-progress: 6, ready: 1\n",
      "# queries un-processed: 22, in-progress: 7, ready: 0\n",
      "# queries un-processed: 21, in-progress: 8, ready: 0\n",
      "# queries un-processed: 20, in-progress: 9, ready: 0\n",
      "# queries un-processed: 19, in-progress: 10, ready: 0\n",
      "# queries un-processed: 18, in-progress: 11, ready: 0\n",
      "# queries un-processed: 17, in-progress: 12, ready: 0\n",
      "# queries un-processed: 16, in-progress: 12, ready: 1\n",
      "# queries un-processed: 15, in-progress: 13, ready: 0\n",
      "# queries un-processed: 14, in-progress: 14, ready: 0\n",
      "# queries un-processed: 13, in-progress: 14, ready: 1\n",
      "# queries un-processed: 12, in-progress: 15, ready: 0\n",
      "# queries un-processed: 11, in-progress: 16, ready: 0\n",
      "# queries un-processed: 10, in-progress: 17, ready: 0\n",
      "# queries un-processed: 9, in-progress: 17, ready: 1\n",
      "# queries un-processed: 8, in-progress: 17, ready: 1\n",
      "# queries un-processed: 7, in-progress: 17, ready: 1\n",
      "# queries un-processed: 6, in-progress: 17, ready: 1\n",
      "# queries un-processed: 5, in-progress: 17, ready: 1\n",
      "# queries un-processed: 4, in-progress: 17, ready: 1\n",
      "# queries un-processed: 3, in-progress: 17, ready: 1\n",
      "# queries un-processed: 2, in-progress: 17, ready: 1\n",
      "# queries un-processed: 1, in-progress: 18, ready: 0\n",
      "# queries un-processed: 0, in-progress: 18, ready: 1\n",
      "# queries un-processed: 0, in-progress: 18, ready: 0\n",
      "# queries un-processed: 0, in-progress: 17, ready: 1\n",
      "# queries un-processed: 0, in-progress: 16, ready: 1\n",
      "# queries un-processed: 0, in-progress: 15, ready: 1\n",
      "# queries un-processed: 0, in-progress: 14, ready: 1\n",
      "# queries un-processed: 0, in-progress: 13, ready: 1\n",
      "# queries un-processed: 0, in-progress: 12, ready: 1\n",
      "# queries un-processed: 0, in-progress: 11, ready: 1\n",
      "# queries un-processed: 0, in-progress: 11, ready: 0\n",
      "# queries un-processed: 0, in-progress: 11, ready: 0\n",
      "# queries un-processed: 0, in-progress: 10, ready: 1\n",
      "# queries un-processed: 0, in-progress: 9, ready: 1\n",
      "# queries un-processed: 0, in-progress: 8, ready: 1\n",
      "# queries un-processed: 0, in-progress: 8, ready: 0\n",
      "# queries un-processed: 0, in-progress: 7, ready: 1\n",
      "# queries un-processed: 0, in-progress: 7, ready: 0\n",
      "# queries un-processed: 0, in-progress: 6, ready: 1\n",
      "# queries un-processed: 0, in-progress: 5, ready: 1\n",
      "# queries un-processed: 0, in-progress: 5, ready: 0\n",
      "# queries un-processed: 0, in-progress: 5, ready: 0\n",
      "# queries un-processed: 0, in-progress: 4, ready: 1\n",
      "# queries un-processed: 0, in-progress: 4, ready: 0\n",
      "# queries un-processed: 0, in-progress: 3, ready: 1\n",
      "# queries un-processed: 0, in-progress: 2, ready: 1\n",
      "# queries un-processed: 0, in-progress: 1, ready: 1\n",
      "# queries un-processed: 0, in-progress: 1, ready: 0\n",
      "# queries un-processed: 0, in-progress: 0, ready: 1\n",
      "Done in 22.49sec.\n",
      "Dataset overview with Mixtral responses:\n"
     ]
    },
    {
     "data": {
      "text/html": [
       "<div>\n",
       "<style scoped>\n",
       "    .dataframe tbody tr th:only-of-type {\n",
       "        vertical-align: middle;\n",
       "    }\n",
       "\n",
       "    .dataframe tbody tr th {\n",
       "        vertical-align: top;\n",
       "    }\n",
       "\n",
       "    .dataframe thead th {\n",
       "        text-align: right;\n",
       "    }\n",
       "</style>\n",
       "<table border=\"1\" class=\"dataframe\">\n",
       "  <thead>\n",
       "    <tr style=\"text-align: right;\">\n",
       "      <th></th>\n",
       "      <th>prompt</th>\n",
       "      <th>source</th>\n",
       "      <th>gpt4_response</th>\n",
       "      <th>mixtral_response</th>\n",
       "    </tr>\n",
       "  </thead>\n",
       "  <tbody>\n",
       "    <tr>\n",
       "      <th>6062</th>\n",
       "      <td>Based on the features mentioned, which hotel d...</td>\n",
       "      <td>[evol_instruct]</td>\n",
       "      <td>Based on the features mentioned, Hotel A seems...</td>\n",
       "      <td>Based on the information you've provided, the...</td>\n",
       "    </tr>\n",
       "    <tr>\n",
       "      <th>113830</th>\n",
       "      <td>Provide step-by-step instructions on how to cr...</td>\n",
       "      <td>[ultrachat]</td>\n",
       "      <td>Sure, here's a simple step-by-step guide on ho...</td>\n",
       "      <td>Sure, I'd be happy to help you make a homemad...</td>\n",
       "    </tr>\n",
       "    <tr>\n",
       "      <th>138869</th>\n",
       "      <td>What are the 10 largest cities in the US by po...</td>\n",
       "      <td>[lmsys-chat-1m]</td>\n",
       "      <td>As of the most recent data available, the 10 l...</td>\n",
       "      <td>Sure, I'd be happy to help with that! Here ar...</td>\n",
       "    </tr>\n",
       "    <tr>\n",
       "      <th>169249</th>\n",
       "      <td>Write a comparison essay of at least 500 words...</td>\n",
       "      <td>[ultrachat]</td>\n",
       "      <td>Title: A Comparative Analysis of Driving a Car...</td>\n",
       "      <td>Title: The Great Debate: Driving a Car vs. Ri...</td>\n",
       "    </tr>\n",
       "    <tr>\n",
       "      <th>116934</th>\n",
       "      <td>Q: You are provided with an \"Event\", \"Intent\" ...</td>\n",
       "      <td>[flan_v2_niv2]</td>\n",
       "      <td>PersonX might feel satisfied or content using ...</td>\n",
       "      <td>PersonX probably feels comfortable and focuse...</td>\n",
       "    </tr>\n",
       "  </tbody>\n",
       "</table>\n",
       "</div>"
      ],
      "text/plain": [
       "                                                   prompt           source  \\\n",
       "6062    Based on the features mentioned, which hotel d...  [evol_instruct]   \n",
       "113830  Provide step-by-step instructions on how to cr...      [ultrachat]   \n",
       "138869  What are the 10 largest cities in the US by po...  [lmsys-chat-1m]   \n",
       "169249  Write a comparison essay of at least 500 words...      [ultrachat]   \n",
       "116934  Q: You are provided with an \"Event\", \"Intent\" ...   [flan_v2_niv2]   \n",
       "\n",
       "                                            gpt4_response  \\\n",
       "6062    Based on the features mentioned, Hotel A seems...   \n",
       "113830  Sure, here's a simple step-by-step guide on ho...   \n",
       "138869  As of the most recent data available, the 10 l...   \n",
       "169249  Title: A Comparative Analysis of Driving a Car...   \n",
       "116934  PersonX might feel satisfied or content using ...   \n",
       "\n",
       "                                         mixtral_response  \n",
       "6062     Based on the information you've provided, the...  \n",
       "113830   Sure, I'd be happy to help you make a homemad...  \n",
       "138869   Sure, I'd be happy to help with that! Here ar...  \n",
       "169249   Title: The Great Debate: Driving a Car vs. Ri...  \n",
       "116934   PersonX probably feels comfortable and focuse...  "
      ]
     },
     "metadata": {},
     "output_type": "display_data"
    },
    {
     "name": "stdout",
     "output_type": "stream",
     "text": [
      "Saving results to assets/test_dataset.jsonl.\n"
     ]
    },
    {
     "name": "stdout",
     "output_type": "stream",
     "text": [
      "\u001b[36m(autoscaler +30m27s)\u001b[0m Tip: use `ray status` to view detailed cluster status. To disable these messages, set RAY_SCHEDULER_EVENTS=0.\n"
     ]
    }
   ],
   "source": [
    "import yaml\n",
    "from online_inference import generate_mixtral_responses\n",
    "\n",
    "# store ANYSCALE_API_KEY: \"your_api_key_here\" in keys.yaml\n",
    "with open(\"keys.yaml\") as config_file:\n",
    "    keys = yaml.safe_load(config_file)\n",
    "    anyscale_api_key = keys[\"ANYSCALE_API_KEY\"]\n",
    "\n",
    "dataset_df = generate_mixtral_responses(\n",
    "    dataset_df, anyscale_api_key, response_column=\"mixtral_response\"\n",
    ")"
   ]
  },
  {
   "cell_type": "markdown",
   "metadata": {},
   "source": [
    "### Generate GPT-4-as-a-judge scores "
   ]
  },
  {
   "cell_type": "markdown",
   "metadata": {},
   "source": [
    "Let's first take a look at an example query we will send to GPT-4 for judgement"
   ]
  },
  {
   "cell_type": "code",
   "execution_count": 10,
   "metadata": {},
   "outputs": [
    {
     "name": "stdout",
     "output_type": "stream",
     "text": [
      "[Instruction]\n",
      "Evaluate the AI assistant's proficiency in answering the user question displayed below. Your evaluation should consider factors such as the helpfulness, relevance, adherence to real-world facts, depth, creativity, and level of detail of the response. You will be given a reference answer which is considered of high quality. Your assessment will have two lines: First line has a rating on a scale of 1 to 5 with a higher rating representing higher response quality. Follow strictly this format: \"[[rating]]\", for example: \"[[3]]\". Second line contains a short explanation of your rating.\n",
      "\n",
      "[Question]\n",
      "Q: You are provided with an \"Event\", \"Intent\" related to PersonX. Guess a reaction/reaction of PersonX about the given event and their intention.\n",
      "Event:PersonX uses ___ in class. Intent: 1) to use his prefered writing implement\n",
      "A:\n",
      "\n",
      "[Reference Answer]\n",
      "PersonX might feel satisfied or content using their preferred writing implement in class, as it aligns with their intention to utilize a comfortable and desired tool for writing. \n",
      "Confidence: 85%\n",
      "\n",
      "[Assistant Answer]\n",
      " PersonX probably feels comfortable and focused in class, as they are using their preferred writing implement. This may help them engage more effectively with the material being taught and contribute to their overall learning experience.\n",
      "\n",
      "Guidelines for Rating:\n",
      " - High Rating (4-5): Reserved for responses that are very close to the quality of the reference or even better.\n",
      " - Medium Rating (3): Reserved for responses that have moderate quality compared to the reference.\n",
      " - Low Rating (1-2): Allocated to response that are much lower quality compared to the reference or completely wrong.\n",
      "\n",
      "Assessment:\n",
      "\n"
     ]
    }
   ],
   "source": [
    "from utils import inspect_llm_judge_queries\n",
    "\n",
    "inspect_llm_judge_queries(dataset_df)"
   ]
  },
  {
   "cell_type": "markdown",
   "metadata": {},
   "source": [
    "Now, we apply a similar online batch-inference method to generate our labels."
   ]
  },
  {
   "cell_type": "code",
   "execution_count": 11,
   "metadata": {},
   "outputs": [
    {
     "name": "stdout",
     "output_type": "stream",
     "text": [
      "Starting batch inference on 30 queries...\n",
      "# queries un-processed: 29, in-progress: 1, ready: 0\n",
      "# queries un-processed: 28, in-progress: 2, ready: 0\n",
      "# queries un-processed: 27, in-progress: 3, ready: 0\n",
      "# queries un-processed: 26, in-progress: 4, ready: 0\n",
      "# queries un-processed: 25, in-progress: 5, ready: 0\n",
      "# queries un-processed: 24, in-progress: 5, ready: 1\n",
      "# queries un-processed: 23, in-progress: 6, ready: 0\n",
      "# queries un-processed: 22, in-progress: 7, ready: 0\n",
      "# queries un-processed: 21, in-progress: 7, ready: 1\n",
      "# queries un-processed: 20, in-progress: 8, ready: 0\n",
      "# queries un-processed: 19, in-progress: 9, ready: 0\n",
      "# queries un-processed: 18, in-progress: 10, ready: 0\n",
      "# queries un-processed: 18, in-progress: 9, ready: 1\n",
      "# queries un-processed: 17, in-progress: 9, ready: 1\n",
      "# queries un-processed: 16, in-progress: 9, ready: 1\n",
      "# queries un-processed: 15, in-progress: 10, ready: 0\n",
      "# queries un-processed: 15, in-progress: 9, ready: 1\n",
      "# queries un-processed: 14, in-progress: 9, ready: 1\n",
      "# queries un-processed: 13, in-progress: 9, ready: 1\n",
      "# queries un-processed: 12, in-progress: 9, ready: 1\n",
      "# queries un-processed: 11, in-progress: 9, ready: 1\n",
      "# queries un-processed: 10, in-progress: 10, ready: 0\n",
      "# queries un-processed: 10, in-progress: 9, ready: 1\n",
      "# queries un-processed: 9, in-progress: 9, ready: 1\n",
      "# queries un-processed: 8, in-progress: 9, ready: 1\n",
      "# queries un-processed: 7, in-progress: 10, ready: 0\n",
      "# queries un-processed: 7, in-progress: 9, ready: 1\n",
      "# queries un-processed: 6, in-progress: 10, ready: 0\n",
      "# queries un-processed: 6, in-progress: 9, ready: 1\n",
      "# queries un-processed: 5, in-progress: 9, ready: 1\n",
      "# queries un-processed: 4, in-progress: 10, ready: 0\n",
      "# queries un-processed: 4, in-progress: 9, ready: 1\n",
      "# queries un-processed: 3, in-progress: 9, ready: 1\n",
      "# queries un-processed: 2, in-progress: 9, ready: 1\n",
      "# queries un-processed: 1, in-progress: 10, ready: 0\n",
      "# queries un-processed: 1, in-progress: 10, ready: 0\n",
      "# queries un-processed: 1, in-progress: 9, ready: 1\n",
      "# queries un-processed: 0, in-progress: 10, ready: 0\n",
      "# queries un-processed: 0, in-progress: 9, ready: 1\n",
      "# queries un-processed: 0, in-progress: 8, ready: 1\n",
      "# queries un-processed: 0, in-progress: 7, ready: 1\n",
      "# queries un-processed: 0, in-progress: 6, ready: 1\n",
      "# queries un-processed: 0, in-progress: 5, ready: 1\n",
      "# queries un-processed: 0, in-progress: 4, ready: 1\n",
      "# queries un-processed: 0, in-progress: 3, ready: 1\n",
      "# queries un-processed: 0, in-progress: 3, ready: 0\n",
      "# queries un-processed: 0, in-progress: 2, ready: 1\n",
      "# queries un-processed: 0, in-progress: 2, ready: 0\n",
      "# queries un-processed: 0, in-progress: 1, ready: 1\n",
      "# queries un-processed: 0, in-progress: 0, ready: 1\n",
      "Done in 17.21sec.\n",
      "Dataset overview with score labels:\n"
     ]
    },
    {
     "data": {
      "text/html": [
       "<div>\n",
       "<style scoped>\n",
       "    .dataframe tbody tr th:only-of-type {\n",
       "        vertical-align: middle;\n",
       "    }\n",
       "\n",
       "    .dataframe tbody tr th {\n",
       "        vertical-align: top;\n",
       "    }\n",
       "\n",
       "    .dataframe thead th {\n",
       "        text-align: right;\n",
       "    }\n",
       "</style>\n",
       "<table border=\"1\" class=\"dataframe\">\n",
       "  <thead>\n",
       "    <tr style=\"text-align: right;\">\n",
       "      <th></th>\n",
       "      <th>prompt</th>\n",
       "      <th>source</th>\n",
       "      <th>gpt4_response</th>\n",
       "      <th>mixtral_response</th>\n",
       "      <th>mixtral_score</th>\n",
       "    </tr>\n",
       "  </thead>\n",
       "  <tbody>\n",
       "    <tr>\n",
       "      <th>6062</th>\n",
       "      <td>Based on the features mentioned, which hotel d...</td>\n",
       "      <td>[evol_instruct]</td>\n",
       "      <td>Based on the features mentioned, Hotel A seems...</td>\n",
       "      <td>Based on the information you've provided, the...</td>\n",
       "      <td>5</td>\n",
       "    </tr>\n",
       "    <tr>\n",
       "      <th>113830</th>\n",
       "      <td>Provide step-by-step instructions on how to cr...</td>\n",
       "      <td>[ultrachat]</td>\n",
       "      <td>Sure, here's a simple step-by-step guide on ho...</td>\n",
       "      <td>Sure, I'd be happy to help you make a homemad...</td>\n",
       "      <td>3</td>\n",
       "    </tr>\n",
       "    <tr>\n",
       "      <th>138869</th>\n",
       "      <td>What are the 10 largest cities in the US by po...</td>\n",
       "      <td>[lmsys-chat-1m]</td>\n",
       "      <td>As of the most recent data available, the 10 l...</td>\n",
       "      <td>Sure, I'd be happy to help with that! Here ar...</td>\n",
       "      <td>5</td>\n",
       "    </tr>\n",
       "    <tr>\n",
       "      <th>169249</th>\n",
       "      <td>Write a comparison essay of at least 500 words...</td>\n",
       "      <td>[ultrachat]</td>\n",
       "      <td>Title: A Comparative Analysis of Driving a Car...</td>\n",
       "      <td>Title: The Great Debate: Driving a Car vs. Ri...</td>\n",
       "      <td>4</td>\n",
       "    </tr>\n",
       "    <tr>\n",
       "      <th>116934</th>\n",
       "      <td>Q: You are provided with an \"Event\", \"Intent\" ...</td>\n",
       "      <td>[flan_v2_niv2]</td>\n",
       "      <td>PersonX might feel satisfied or content using ...</td>\n",
       "      <td>PersonX probably feels comfortable and focuse...</td>\n",
       "      <td>5</td>\n",
       "    </tr>\n",
       "  </tbody>\n",
       "</table>\n",
       "</div>"
      ],
      "text/plain": [
       "                                                   prompt           source  \\\n",
       "6062    Based on the features mentioned, which hotel d...  [evol_instruct]   \n",
       "113830  Provide step-by-step instructions on how to cr...      [ultrachat]   \n",
       "138869  What are the 10 largest cities in the US by po...  [lmsys-chat-1m]   \n",
       "169249  Write a comparison essay of at least 500 words...      [ultrachat]   \n",
       "116934  Q: You are provided with an \"Event\", \"Intent\" ...   [flan_v2_niv2]   \n",
       "\n",
       "                                            gpt4_response  \\\n",
       "6062    Based on the features mentioned, Hotel A seems...   \n",
       "113830  Sure, here's a simple step-by-step guide on ho...   \n",
       "138869  As of the most recent data available, the 10 l...   \n",
       "169249  Title: A Comparative Analysis of Driving a Car...   \n",
       "116934  PersonX might feel satisfied or content using ...   \n",
       "\n",
       "                                         mixtral_response  mixtral_score  \n",
       "6062     Based on the information you've provided, the...              5  \n",
       "113830   Sure, I'd be happy to help you make a homemad...              3  \n",
       "138869   Sure, I'd be happy to help with that! Here ar...              5  \n",
       "169249   Title: The Great Debate: Driving a Car vs. Ri...              4  \n",
       "116934   PersonX probably feels comfortable and focuse...              5  "
      ]
     },
     "metadata": {},
     "output_type": "display_data"
    },
    {
     "name": "stdout",
     "output_type": "stream",
     "text": [
      "Saving results to assets/labeled_test_dataset.jsonl.\n"
     ]
    }
   ],
   "source": [
    "import yaml\n",
    "from online_inference import generate_llm_judge_labels\n",
    "\n",
    "# store OPENAI_API_KEY: \"your_api_key_here\" in keys.yaml\n",
    "with open(\"keys.yaml\") as config_file:\n",
    "    keys = yaml.safe_load(config_file)\n",
    "    openai_api_key = keys[\"OPENAI_API_KEY\"]\n",
    "\n",
    "dataset_df = generate_llm_judge_labels(dataset_df, openai_api_key)"
   ]
  },
  {
   "cell_type": "markdown",
   "metadata": {},
   "source": [
    "### Full Dataset\n",
    "We have previously generated the full labeled datasets, created a train and validation splits, and published them as a public huggingface dataset `outellm/gpt4_dataset`. Let's load the dataset and explore the score distribution.\n"
   ]
  },
  {
   "cell_type": "code",
   "execution_count": 2,
   "metadata": {},
   "outputs": [
    {
     "name": "stdout",
     "output_type": "stream",
     "text": [
      "Train size: 109101\n",
      "Validation size: 10000\n"
     ]
    },
    {
     "data": {
      "text/html": [
       "<div>\n",
       "<style scoped>\n",
       "    .dataframe tbody tr th:only-of-type {\n",
       "        vertical-align: middle;\n",
       "    }\n",
       "\n",
       "    .dataframe tbody tr th {\n",
       "        vertical-align: top;\n",
       "    }\n",
       "\n",
       "    .dataframe thead th {\n",
       "        text-align: right;\n",
       "    }\n",
       "</style>\n",
       "<table border=\"1\" class=\"dataframe\">\n",
       "  <thead>\n",
       "    <tr style=\"text-align: right;\">\n",
       "      <th></th>\n",
       "      <th>prompt</th>\n",
       "      <th>source</th>\n",
       "      <th>gpt4_response</th>\n",
       "      <th>mixtral_response</th>\n",
       "      <th>mixtral_score</th>\n",
       "    </tr>\n",
       "  </thead>\n",
       "  <tbody>\n",
       "    <tr>\n",
       "      <th>0</th>\n",
       "      <td>I'll give you a review, can you extract the fo...</td>\n",
       "      <td>[lmsys-chat-1m]</td>\n",
       "      <td>Sure, here's the analysis of the review:\\n\\n1....</td>\n",
       "      <td>Food aspects and opinion words:\\n\\n1. Made to ...</td>\n",
       "      <td>4</td>\n",
       "    </tr>\n",
       "    <tr>\n",
       "      <th>1</th>\n",
       "      <td>Answer the following question: Claim: \"Joker m...</td>\n",
       "      <td>[flan_v2_cot]</td>\n",
       "      <td>The answer is no.\\nChain of thoughts: Stan Lee...</td>\n",
       "      <td>The answer is no.\\n\\nChain of thoughts: While ...</td>\n",
       "      <td>5</td>\n",
       "    </tr>\n",
       "    <tr>\n",
       "      <th>2</th>\n",
       "      <td>TASK DEFINITION: In this task you will be give...</td>\n",
       "      <td>[flan_v2_niv2]</td>\n",
       "      <td>ZdoublexpropheciesS</td>\n",
       "      <td>ZdoublexpropheciesS\\n\\nIn this task, you are a...</td>\n",
       "      <td>5</td>\n",
       "    </tr>\n",
       "    <tr>\n",
       "      <th>3</th>\n",
       "      <td>Detailed Instructions: In this task, you need ...</td>\n",
       "      <td>[flan_v2_niv2]</td>\n",
       "      <td>Yes</td>\n",
       "      <td>No, 'station' is not the longest word in the s...</td>\n",
       "      <td>5</td>\n",
       "    </tr>\n",
       "    <tr>\n",
       "      <th>4</th>\n",
       "      <td>A guy pick up a woman Then he puts her down Ex...</td>\n",
       "      <td>[sharegpt]</td>\n",
       "      <td>This phrase could be interpreted as a joke bec...</td>\n",
       "      <td>This joke is a play on words and relies on the...</td>\n",
       "      <td>5</td>\n",
       "    </tr>\n",
       "  </tbody>\n",
       "</table>\n",
       "</div>"
      ],
      "text/plain": [
       "                                              prompt           source  \\\n",
       "0  I'll give you a review, can you extract the fo...  [lmsys-chat-1m]   \n",
       "1  Answer the following question: Claim: \"Joker m...    [flan_v2_cot]   \n",
       "2  TASK DEFINITION: In this task you will be give...   [flan_v2_niv2]   \n",
       "3  Detailed Instructions: In this task, you need ...   [flan_v2_niv2]   \n",
       "4  A guy pick up a woman Then he puts her down Ex...       [sharegpt]   \n",
       "\n",
       "                                       gpt4_response  \\\n",
       "0  Sure, here's the analysis of the review:\\n\\n1....   \n",
       "1  The answer is no.\\nChain of thoughts: Stan Lee...   \n",
       "2                                ZdoublexpropheciesS   \n",
       "3                                                Yes   \n",
       "4  This phrase could be interpreted as a joke bec...   \n",
       "\n",
       "                                    mixtral_response  mixtral_score  \n",
       "0  Food aspects and opinion words:\\n\\n1. Made to ...              4  \n",
       "1  The answer is no.\\n\\nChain of thoughts: While ...              5  \n",
       "2  ZdoublexpropheciesS\\n\\nIn this task, you are a...              5  \n",
       "3  No, 'station' is not the longest word in the s...              5  \n",
       "4  This joke is a play on words and relies on the...              5  "
      ]
     },
     "metadata": {},
     "output_type": "display_data"
    },
    {
     "data": {
      "image/png": "[encoded data removed]",
      "text/plain": [
       "<Figure size 640x480 with 1 Axes>"
      ]
     },
     "metadata": {},
     "output_type": "display_data"
    }
   ],
   "source": [
    "from datasets import load_dataset\n",
    "from utils import visualize_label_distribution\n",
    "\n",
    "full_dataset_df = load_dataset(\"routellm/gpt4_dataset\")\n",
    "train_df = full_dataset_df[\"train\"].to_pandas()\n",
    "valid_df = full_dataset_df[\"validation\"].to_pandas()\n",
    "\n",
    "print(f\"Train size: {len(train_df)}\")\n",
    "print(f\"Validation size: {len(valid_df)}\")\n",
    "display(train_df.head())\n",
    "visualize_label_distribution(train_df, key=\"mixtral_score\")\n"
   ]
  },
  {
   "cell_type": "markdown",
   "metadata": {},
   "source": [
    "Higher counts for 4-5 scores indicate that Mixtral-8x7B consistently produces high-quality responses, demonstrating its competitive performance compared to the June 2023 version of GPT-4, whose responses are logged in the Nectar dataset.\n",
    "\n",
    "Let us assume that if the score is >= 4, we will route to the OSS model (indicating the response quality is good enough); otherwise, we will route to the closed model. Under this assumption, the data distribution looks like this:\n"
   ]
  },
  {
   "cell_type": "code",
   "execution_count": 3,
   "metadata": {},
   "outputs": [
    {
     "data": {
      "image/png": "[encoded data removed]",
      "text/plain": [
       "<Figure size 640x480 with 1 Axes>"
      ]
     },
     "metadata": {},
     "output_type": "display_data"
    }
   ],
   "source": [
    "train_df[\"routing_label\"] = train_df[\"mixtral_score\"].apply(\n",
    "    lambda x: 1 if x >= 4 else 0\n",
    ")\n",
    "visualize_label_distribution(train_df, key=\"routing_label\")"
   ]
  },
  {
   "cell_type": "markdown",
   "metadata": {},
   "source": [
    "# Step 2: Finetune a router model <a id=\"finetune-router-model\"></a>\n",
    "\n",
    "In this section, we will explain how to finetune an LLM as a smart router. While our data contains `gpt4_response` and `mixtral_response`, we will only use the pair (`query`, `mixtral_score`) for training. The goal is for the smart router to rely solely on the query text to determine which model to route to. Our approach is straightforward: we train a 5-way classifier to predict the `mixtral_score` from the `query`. At inference time, we will route to Mixtral if our router predicts a high score (i.e., 4-5) and to GPT-4 otherwise.\n"
   ]
  },
  {
   "cell_type": "markdown",
   "metadata": {},
   "source": [
    "## 2.1 Data Preparation\n",
    "We will discuss a few preprocessing steps to prepare the data for finetuning an LLM to be a smart router.\n",
    "\n",
    "### Task Instructions\n",
    "We use the instruction-following framework to finetune an LLM as a smart router. The task instructions guide the model to predict the score label for a given query. They ensure the model understands the evaluation criteria and can accurately assess the query's complexity and expected response quality."
   ]
  },
  {
   "cell_type": "code",
   "execution_count": 12,
   "metadata": {},
   "outputs": [
    {
     "name": "stdout",
     "output_type": "stream",
     "text": [
      "[Instruction]\n",
      "Based on the question provided below, predict the score an expert evaluator would give to an AI assistant's response, considering its helpfulness, relevance, adherence to facts, depth, creativity, and detail. Your prediction should infer the level of proficiency needed to address the question effectively. Use a scale from 1 to 5, where a higher score indicates a higher anticipated quality of response. Provide your prediction as: \"[[predicted rating]]\".\n",
      "\n",
      "Score criteria:\n",
      "- **4-5**: The AI assistant can produce a very strong answer, showing deep understanding, creativity, detailed insight, and high relevance.\n",
      "- **3**: The AI assistant can provide an adequate answer with moderate detail, relevance, and factual accuracy.\n",
      "- **1-2**: The AI assistant will struggle to produce a strong answer due to the question's difficulty, vagueness, or the assistant's limitations.\n",
      "\n",
      "[Question]\n",
      "{question}\n",
      "\n",
      "Prediction:\n"
     ]
    }
   ],
   "source": [
    "from utils import inspect_instructions\n",
    "inspect_instructions(train_df)"
   ]
  },
  {
   "cell_type": "markdown",
   "metadata": {},
   "source": [
    "### API Data Format\n",
    "\n",
    "To finetune the model, we must format the data to be compatible with [Anyscale's finetuning API](https://docs.anyscale.com/endpoints/fine-tuning/dataset-prep).\n"
   ]
  },
  {
   "cell_type": "code",
   "execution_count": 13,
   "metadata": {},
   "outputs": [
    {
     "data": {
      "text/plain": [
       "[{'role': 'system',\n",
       "  'content': '[Instruction]\\nBased on the question provided below, predict the score an expert evaluator would give to an AI assistant\\'s response, considering its helpfulness, relevance, adherence to facts, depth, creativity, and detail. Your prediction should infer the level of proficiency needed to address the question effectively. Use a scale from 1 to 5, where a higher score indicates a higher anticipated quality of response. Provide your prediction as: \"[[predicted rating]]\".\\n\\nScore criteria:\\n- **4-5**: The AI assistant can produce a very strong answer, showing deep understanding, creativity, detailed insight, and high relevance.\\n- **3**: The AI assistant can provide an adequate answer with moderate detail, relevance, and factual accuracy.\\n- **1-2**: The AI assistant will struggle to produce a strong answer due to the question\\'s difficulty, vagueness, or the assistant\\'s limitations.\\n'},\n",
       " {'role': 'user',\n",
       "  'content': \"[Question]\\nI'll give you a review, can you extract the food aspects and the opinion words of these aspects and analyze the sentiment of these opinion from this review? the review is:They tore the old NAME_1 down then built another one...? Anyway, they sell wine and beer and snacks and have a seating area inside and outside to eat. Besides gas, the big draw is the Made to Order food. I ordered some tacos and French toast sticks both were pretty good. I think I'd like to try more snacks.And they're open 24/7.\\n\\nPrediction:\"},\n",
       " {'role': 'assistant', 'content': '[[4]]'}]"
      ]
     },
     "metadata": {},
     "output_type": "display_data"
    }
   ],
   "source": [
    "from utils import prepare_ft_messages\n",
    "\n",
    "train_df[\"messages\"] = prepare_ft_messages(train_df, 'mixtral_score')\n",
    "\n",
    "# here's what the API data format looks like:\n",
    "display(train_df[\"messages\"].iloc[0])"
   ]
  },
  {
   "cell_type": "markdown",
   "metadata": {},
   "source": [
    "### Label Rebalancing\n",
    "\n",
    "For classification tasks, it's recommended to train on label-balanced datasets to ensure models are not biased to a specific label. We will balance the dataset based on `routing_label`, as this is the label of primary interest.\n"
   ]
  },
  {
   "cell_type": "code",
   "execution_count": 4,
   "metadata": {},
   "outputs": [
    {
     "name": "stdout",
     "output_type": "stream",
     "text": [
      "Train size: 29504\n"
     ]
    }
   ],
   "source": [
    "from utils import balance_dataset\n",
    "\n",
    "balanced_train_df = balance_dataset(train_df, key=\"routing_label\")\n",
    "print(f\"Train size: {len(balanced_train_df)}\")"
   ]
  },
  {
   "cell_type": "markdown",
   "metadata": {},
   "source": [
    "### Subsample and Store Data\n",
    "\n",
    "To expedite the time to run this tutorial, we will subsample 1,000 examples for training. We'll store the data in JSONL format to prepare for launching the finetuning job in the next section."
   ]
  },
  {
   "cell_type": "code",
   "execution_count": 5,
   "metadata": {},
   "outputs": [],
   "source": [
    "n_sample = 1000\n",
    "output_file = \"/mnt/user_storage/train_data_sample.jsonl\"\n",
    "\n",
    "subsampled_df = balanced_train_df.sample(n=n_sample, random_state=42)\n",
    "subsampled_df.to_json(output_file, orient='records', lines=True)"
   ]
  },
  {
   "cell_type": "markdown",
   "metadata": {},
   "source": [
    "## 2.2 Fine-tune with Anyscale API\n",
    "REWRITE: We will run a fine-tuning with Anyscale's LLM finetuning API workload as an isolated job (similar to this example https://github.com/anyscale/e2e-llm-workflows?tab=readme-ov-file#fine-tuning-1). \n",
    "\n"
   ]
  },
  {
   "cell_type": "code",
   "execution_count": 9,
   "metadata": {},
   "outputs": [
    {
     "name": "stdout",
     "output_type": "stream",
     "text": [
      "model_id: meta-llama/Meta-Llama-3-8B\n",
      "train_path: s3://air-example-data/llmforge-test-data/classifier/ft_train_balanced_1k.jsonl\n",
      "valid_path: s3://air-example-data/llmforge-test-data/classifier/ft_train_balanced_1k.jsonl\n",
      "context_length: 1024\n",
      "num_devices: 4\n",
      "num_epochs: 5\n",
      "checkpoint_every_n_epochs: 5\n",
      "train_batch_size_per_device: 8\n",
      "eval_batch_size_per_device: 8\n",
      "lr_scheduler_type: constant\n",
      "learning_rate: 1e-5\n",
      "num_checkpoints_to_keep: 1\n",
      "no_gradient_checkpoint: False\n",
      "output_dir: /mnt/local_storage\n",
      "deepspeed:\n",
      "  config_path: config_files/deepspeed/zero_3.json\n",
      "flash_attention_2: true\n",
      "classifier_config:\n",
      "  label_tokens:\n",
      "      - \"[[1]]\"\n",
      "      - \"[[2]]\"\n",
      "      - \"[[3]]\"\n",
      "      - \"[[4]]\"\n",
      "      - \"[[5]]\"\n",
      "  eval_metrics:\n",
      "      - \"prauc\""
     ]
    }
   ],
   "source": [
    "!cat assets/ft_config_debug.yaml"
   ]
  },
  {
   "cell_type": "markdown",
   "metadata": {},
   "source": [
    "#  Batch inference with router model"
   ]
  },
  {
   "cell_type": "markdown",
   "metadata": {},
   "source": [
    "#  Evaluate router performance"
   ]
  },
  {
   "cell_type": "markdown",
   "metadata": {},
   "source": [
    "## Baselines\n",
    "1. Random"
   ]
  },
  {
   "cell_type": "code",
   "execution_count": null,
   "metadata": {},
   "outputs": [],
   "source": [
    "from collections import OrderedDict\n",
    "\n",
    "router_predictions = OrderedDict()"
   ]
  },
  {
   "cell_type": "code",
   "execution_count": null,
   "metadata": {},
   "outputs": [],
   "source": [
    "import numpy as np\n",
    "\n",
    "rng = np.random.RandomState(123)\n",
    "router_predictions[\"Random\"] = rng.uniform(0, 1, len(validation_df))"
   ]
  },
  {
   "cell_type": "code",
   "execution_count": null,
   "metadata": {},
   "outputs": [],
   "source": [
    "from evaluation_metrics import plot_quality_cost_curve\n",
    "\n",
    "oss_model_scores = validation_df[\"label\"].to_numpy()\n",
    "closed_model_scores = np.ones(len(validation_df[\"label\"])) * 5.0\n",
    "\n",
    "plot_quality_cost_curve(oss_model_scores, closed_model_scores, router_predictions)"
   ]
  }
 ],
 "metadata": {
  "kernelspec": {
   "display_name": "base",
   "language": "python",
   "name": "python3"
  },
  "language_info": {
   "codemirror_mode": {
    "name": "ipython",
    "version": 3
   },
   "file_extension": ".py",
   "mimetype": "text/x-python",
   "name": "python",
   "nbconvert_exporter": "python",
   "pygments_lexer": "ipython3",
   "version": "3.10.14"
  }
 },
 "nbformat": 4,
 "nbformat_minor": 2
}
