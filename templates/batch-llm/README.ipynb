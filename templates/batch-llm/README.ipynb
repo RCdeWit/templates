{
 "cells": [
  {
   "attachments": {},
   "cell_type": "markdown",
   "metadata": {},
   "source": [
    "## LLM offline batch inference with Ray Data and vLLM\n",
    "\n",
    "**⏱️ Time to complete**: 10 min\n",
    "\n",
    "This template shows you how to:\n",
    "1. Read in data from in-memory samples or files on cloud storage. \n",
    "2. Use Ray Data and vLLM to run batch inference of a LLM.\n",
    "3. Write the inference outputs to cloud storage.\n",
    "\n",
    "For a Python script version of the `.ipynb` notebook used for the workspace template, refer to `examples/main.py`.\n",
    "\n",
    "**Note:** This tutorial is run within a workspace. Please overview the `Introduction to Workspaces` template first before this tutorial.\n",
    "\n",
    "### How to decide between online vs offline inference for LLM\n",
    "Online LLM inference (e.g. Anyscale Endpoint) should be used when you want to get real-time response for prompt or to interact with the LLM. Use online inference when you want to optimize latency of inference to be as quick as possible.\n",
    "\n",
    "On the other hand, offline LLM inference should be used when you want to get reponses for a large number of prompts within some time frame, but not required to be real-time (minutes to hours granularity). Use offline inference when you want to:\n",
    "1. Scale your workload to large-scale datasets\n",
    "2. optimize inference throughput and resource usage (for example, maximizing GPU utilization)."
   ]
  },
  {
   "cell_type": "markdown",
   "metadata": {},
   "source": [
    "### Step 1: Install Python dependencies\n",
    "Install additional required dependencies using `pip`."
   ]
  },
  {
   "cell_type": "code",
   "execution_count": null,
   "metadata": {},
   "outputs": [],
   "source": [
    "# Minimum transformers version compatible with Mixtral models.\n",
    "!pip install -q vllm==0.3.3 transformers>=4.38.0 && echo 'Install complete!'"
   ]
  },
  {
   "cell_type": "markdown",
   "metadata": {},
   "source": [
    "Next, import the dependencies used in this template."
   ]
  },
  {
   "cell_type": "code",
   "execution_count": null,
   "metadata": {},
   "outputs": [],
   "source": [
    "import os\n",
    "from typing import Dict\n",
    "\n",
    "import numpy as np\n",
    "import ray\n",
    "from vllm import LLM, SamplingParams\n",
    "\n",
    "from util.utils import generate_output_path"
   ]
  },
  {
   "attachments": {},
   "cell_type": "markdown",
   "metadata": {},
   "source": [
    "### Step 2: Set up model defaults\n",
    "Set up default values that will be used in the batch inference workflow:\n",
    "* Your [Hugging Face user access token](https://huggingface.co/docs/hub/en/security-tokens). This will be used to download the model.\n",
    "* The model to use for inference ([the list of supported models](https://docs.vllm.ai/en/latest/models/supported_models.html)).\n",
    "* The [sampling parameters object](https://github.com/vllm-project/vllm/blob/main/vllm/sampling_params.py) used by vLLM.\n",
    "* The output path where results will be written as parquet files."
   ]
  },
  {
   "cell_type": "code",
   "execution_count": null,
   "metadata": {},
   "outputs": [],
   "source": [
    "# Set the Hugging Face token. Replace the following with your token.\n",
    "HF_TOKEN = \"<REPLACE_WITH_YOUR_HUGGING_FACE_USER_TOKEN>\"\n",
    "# Set to the model that you wish to use. Note that using the llama models will require a hugging face token to be set.\n",
    "HF_MODEL = \"meta-llama/Llama-2-7b-chat-hf\"\n",
    "# Create a sampling params object.\n",
    "sampling_params = SamplingParams(temperature=0, max_tokens=2048)\n",
    "# Output path to write output result. You can also change this to any cloud storage path, e.g. a specific S3 bucket.\n",
    "output_path = generate_output_path(os.environ.get(\"ANYSCALE_ARTIFACT_STORAGE\"), HF_MODEL)"
   ]
  },
  {
   "cell_type": "markdown",
   "metadata": {},
   "source": [
    "Depending on the model used for inference, we need to select the appropriate number of LLM instances and the number of GPUs per LLM instance. \n",
    "- For smaller (7B parameter) models, these can fit on a single T4 or A10 GPU. We can use multiple LLM instances to parallelize batch inference.\n",
    "- For larger (13B or 70B parameter) models, they require multiple, more powerful GPU instances, such as A100s. Since these GPUs are more difficult to acquire and need multiple GPUs per LLM instance, we will use a single LLM instance."
   ]
  },
  {
   "cell_type": "code",
   "execution_count": null,
   "metadata": {},
   "outputs": [],
   "source": [
    "if \"-7b\" in HF_MODEL.lower():\n",
    "    num_llm_instances = 4\n",
    "    num_gpus_per_instance = 1\n",
    "elif \"-13b\" in HF_MODEL.lower() or \"-70b\" in HF_MODEL.lower() or \"-8x7b\" in HF_MODEL.lower():\n",
    "    num_llm_instances = 1\n",
    "    num_gpus_per_instance = 8\n",
    "else:\n",
    "    raise ValueError(\n",
    "        \"Could not auto-detect number of LLM instances and GPUs per instance based on model name. \"\n",
    "        \"You will need to explicitly define the `num_llm_instances` and `num_gpus_per_instance` in the above cell.\"\n",
    "    )\n",
    "    # If you run into this case, comment out the above ValueError, and fill in the appropriate values for your model below.\n",
    "    # num_llm_instances = ...\n",
    "    # num_gpus_per_instance = ..."
   ]
  },
  {
   "cell_type": "markdown",
   "metadata": {},
   "source": [
    "Start up Ray, using the Hugging Face token as an environment variable so that it's made available to all nodes in the cluster."
   ]
  },
  {
   "cell_type": "code",
   "execution_count": null,
   "metadata": {},
   "outputs": [],
   "source": [
    "if ray.is_initialized():\n",
    "    ray.shutdown()\n",
    "ray.init(\n",
    "    runtime_env={\n",
    "        \"env_vars\": {\"HF_TOKEN\": HF_TOKEN},\n",
    "    }\n",
    ")"
   ]
  },
  {
   "cell_type": "markdown",
   "metadata": {},
   "source": [
    "### Step 3: Read input data with Ray Data\n",
    "Use Ray Data to read in your input data from some sample prompts."
   ]
  },
  {
   "cell_type": "code",
   "execution_count": null,
   "metadata": {},
   "outputs": [],
   "source": [
    "# Create some sample prompts, and use Ray Data to create a dataset for it.\n",
    "prompts = [\n",
    "\"\"\"\n",
    "I always wanted to be a ...\n",
    "\"\"\",\n",
    "\"\"\"\n",
    "The best way to learn a new language is ...\n",
    "\"\"\",\n",
    "\"\"\"\n",
    "The biggest challenge facing our society today is ...\n",
    "\"\"\",\n",
    "\"\"\"\n",
    "One thing I would change about my past is ...\n",
    "\"\"\",\n",
    "\"\"\"\n",
    "The key to a happy life is ...\n",
    "\"\"\",\n",
    "]\n",
    "ds = ray.data.from_items(prompts)\n",
    "\n",
    "# View one row of the Dataset.\n",
    "ds.take(1)"
   ]
  },
  {
   "cell_type": "markdown",
   "metadata": {},
   "source": [
    "### Scaling to a larger dataset\n",
    "In the cell above, we created a Ray Dataset with 5 example prompts. Next, let's explore how to scale to a larger dataset based on files stored in cloud storage.\n",
    "\n",
    "Run the following cell to create a Dataset from a text file stored on S3. This Dataset has 100 rows, with each row containing a single prompt in the `text` column."
   ]
  },
  {
   "cell_type": "code",
   "execution_count": null,
   "metadata": {},
   "outputs": [],
   "source": [
    "# Specify number of blocks to ensure that each GPU in this workspace get data blocks to process, maximizing GPU utilization.\n",
    "ds = ray.data.read_text(\n",
    "    \"s3://anonymous@air-example-data/prompts_100.txt\",\n",
    "    override_num_blocks=num_llm_instances,\n",
    ")\n",
    "ds.take_all()"
   ]
  },
  {
   "cell_type": "markdown",
   "metadata": {},
   "source": [
    "### Step 4: Run Batch Inference with vLLM\n",
    "\n",
    "Create a class to define batch inference logic."
   ]
  },
  {
   "cell_type": "code",
   "execution_count": null,
   "metadata": {},
   "outputs": [],
   "source": [
    "# Mapping of model name to max_model_len supported by model.\n",
    "model_name_to_args = {\n",
    "    \"mistralai/Mistral-7B-Instruct-v0.1\": {\"max_model_len\": 16832},\n",
    "    \"google/gemma-7b-it\": {\"max_model_len\": 2432},\n",
    "    \"mlabonne/NeuralHermes-2.5-Mistral-7B\": {\"max_model_len\": 16800},\n",
    "\n",
    "    \"mistralai/Mixtral-8x7B-Instruct-v0.1\": {\"tensor_parallel_size\": 8},\n",
    "    \"meta-llama/Llama-2-70b-chat-hf\": {\"tensor_parallel_size\": 8},\n",
    "    \"codellama/CodeLlama-70b-Instruct-hf\": {\"tensor_parallel_size\": 8},\n",
    "}\n",
    "\n",
    "class LLMPredictor:\n",
    "    def __init__(self):\n",
    "        # Create an LLM.\n",
    "        self.llm = LLM(\n",
    "            model=HF_MODEL,\n",
    "            **model_name_to_args.get(HF_MODEL, {}),\n",
    "        )\n",
    "\n",
    "    def __call__(self, batch: Dict[str, np.ndarray]) -> Dict[str, list]:\n",
    "        # Generate texts from the prompts.\n",
    "        # The output is a list of RequestOutput objects that contain the prompt,\n",
    "        # generated text, and other information.\n",
    "        outputs = self.llm.generate(batch[\"text\"], sampling_params)\n",
    "        prompt = []\n",
    "        generated_text = []\n",
    "        for output in outputs:\n",
    "            prompt.append(output.prompt)\n",
    "            generated_text.append(' '.join([o.text for o in output.outputs]))\n",
    "        return {\n",
    "            \"prompt\": prompt,\n",
    "            \"generated_text\": generated_text,\n",
    "        }"
   ]
  },
  {
   "cell_type": "markdown",
   "metadata": {},
   "source": [
    "Apply batch inference for all input data with the Ray Data [`map_batches`](https://docs.ray.io/en/latest/data/api/doc/ray.data.Dataset.map_batches.html) method. Here, you can easily configure Ray Data to scale the number of LLM instances and compute (number of GPUs to use)."
   ]
  },
  {
   "cell_type": "code",
   "execution_count": null,
   "metadata": {},
   "outputs": [],
   "source": [
    "ds = ds.map_batches(\n",
    "    LLMPredictor,\n",
    "    # Set the concurrency to the number of LLM instances.\n",
    "    concurrency=num_llm_instances,\n",
    "    # Specify the number of GPUs required per LLM instance.\n",
    "    num_gpus=num_gpus_per_instance,\n",
    "    # Specify the batch size for inference. Set the batch size to as large possible without running out of memory.\n",
    "    # If you encounter CUDA out-of-memory errors, decreasing batch_size may help.\n",
    "    batch_size=10,\n",
    ")"
   ]
  },
  {
   "cell_type": "markdown",
   "metadata": {},
   "source": [
    "### Scaling with GPUs\n",
    "\n",
    "To use GPUs for inference in the Workspace, we specified `num_gpus=1` in the `ds.map_batches()` call above to indicate that each LLM instance should use 1 GPU. With `concurrency=4`, we have 4 LLM instances, each using 1 GPU, so we need 4 GPUs total.\n",
    "\n",
    "Finally, make sure to either enable *Auto-select worker nodes* or configure your workspace cluster to have GPU worker nodes:\n",
    "\n",
    "![title](assets/ray-data-gpu.png)"
   ]
  },
  {
   "cell_type": "markdown",
   "metadata": {},
   "source": [
    "Time to execute and view the results!"
   ]
  },
  {
   "cell_type": "code",
   "execution_count": null,
   "metadata": {},
   "outputs": [],
   "source": [
    "ds.take_all()"
   ]
  },
  {
   "cell_type": "markdown",
   "metadata": {},
   "source": [
    "### Handling GPU out-of-memory failures\n",
    "If you run into CUDA out of memory, your batch size is likely too large. Decrease the batch size as described above.\n",
    "\n",
    "If your batch size is already set to 1, then use either a smaller model or GPU devices with more memory.\n",
    "\n",
    "For advanced users working with large models, you can use model parallelism to shard the model across multiple GPUs."
   ]
  },
  {
   "cell_type": "markdown",
   "metadata": {},
   "source": [
    "In the Ray Dashboard tab, navigate to the Job page and open the \"Ray Data Overview\" section to view the details of the batch inference execution:\n",
    "![title](assets/ray-data-jobs.png)"
   ]
  },
  {
   "cell_type": "markdown",
   "metadata": {},
   "source": [
    "Finally, write the inference output data out to Parquet files on S3."
   ]
  },
  {
   "cell_type": "code",
   "execution_count": null,
   "metadata": {},
   "outputs": [],
   "source": [
    "ds.write_parquet(output_path)\n",
    "print(f\"Batch inference result is written into {output_path}.\")"
   ]
  },
  {
   "cell_type": "markdown",
   "metadata": {},
   "source": [
    "We can also use Ray Data to read back the output files to ensure the results are as expected."
   ]
  },
  {
   "cell_type": "code",
   "execution_count": null,
   "metadata": {},
   "outputs": [],
   "source": [
    "ds_output = ray.data.read_parquet(output_path)\n",
    "ds_output.take(5)"
   ]
  },
  {
   "cell_type": "markdown",
   "metadata": {},
   "source": [
    "### Summary\n",
    "\n",
    "This notebook:\n",
    "- Read in data from in-memory samples or input files from cloud storage. \n",
    "- Used Ray Data and vLLM to run offline batch inference of a LLM.\n",
    "- Wrote the inference outputs to cloud storage."
   ]
  },
  {
   "cell_type": "markdown",
   "metadata": {},
   "source": []
  }
 ],
 "metadata": {
  "kernelspec": {
   "display_name": "Python 3",
   "language": "python",
   "name": "python3"
  },
  "language_info": {
   "codemirror_mode": {
    "name": "ipython",
    "version": 3
   },
   "file_extension": ".py",
   "mimetype": "text/x-python",
   "name": "python",
   "nbconvert_exporter": "python",
   "pygments_lexer": "ipython3",
   "version": "3.11.0 (main, Oct 25 2022, 14:13:24) [Clang 14.0.0 (clang-1400.0.29.202)]"
  },
  "vscode": {
   "interpreter": {
    "hash": "1a1af0ee75eeea9e2e1ee996c87e7a2b11a0bebd85af04bb136d915cefc0abce"
   }
  }
 },
 "nbformat": 4,
 "nbformat_minor": 2
}
