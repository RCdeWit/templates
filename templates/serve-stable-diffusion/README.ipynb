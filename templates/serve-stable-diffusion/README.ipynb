
{
 "cells": [
  {
   "cell_type": "markdown",
   "metadata": {},
   "source": [
    "## Serving a Stable Diffusion Model with Ray Serve\n",
    "This template shows you how to develop and test the model locally and deploy it into production.\n",
    "\n",
    "### Step 1: Install python dependencies"
   ]
  },
  {
   "cell_type": "code",
   "execution_count": null,
   "metadata": {},
   "outputs": [],
   "source": [
    "!pip install -q diffusers==0.25.0 transformers==4.36.2 accelerate==0.25.0"
   ]
  },
  {
   "cell_type": "markdown",
   "metadata": {},
   "source": [
    "### Step 2: Deploy the model locally\n",
    "- Open a new terminal (ctrl+shift+` in VS Code.)\n",
    "- Run the command below to deploy your model at http://localhost:8000.  \n",
    "\n",
    "```bash\n",
    "# Run the following in a new VSCode terminal. It's needed to run this in a separate\n",
    "# terminal instead of in this notebook since `serve run` is a blocking command.\n",
    "$ serve run app:entrypoint\n",
    "```"
   ]
  },
  {
   "cell_type": "markdown",
   "metadata": {},
   "source": [
    "### Step 3: Send test requests to the running model\n",
    "- An image should be generated in the current directory"
   ]
  },
  {
   "cell_type": "code",
   "execution_count": null,
   "metadata": {},
   "outputs": [],
   "source": [
    "import requests\n",
    "endpoint = \"http://localhost:8000/imagine\"\n",
    "\n",
    "def generate_image(prompt, image_size):\n",
    "    req = {\"prompt\": prompt, \"img_size\": image_size}\n",
    "    resp = requests.get(endpoint, params=req)\n",
    "    return resp.content\n",
    "\n",
    "image = generate_image(\"twin peaks sf in basquiat painting style\", 640)\n",
    "filename = \"image.png\"\n",
    "with open(filename, \"wb\") as f:\n",
    "    f.write(image)\n",
    "\n",
    "from IPython.display import Image\n",
    "Image(filename=filename) "
   ]
  },
  {
   "cell_type": "markdown",
   "metadata": {},
   "source": [
    "## Next steps\n",
    "\n",
    "That's it for deploying a model for testing in workspaces. To learn how to deploy this model to prod, go to the `publish-to-prod.ipynb` notebook."
   ]
  },
  {
   "cell_type": "markdown",
   "metadata": {},
   "source": []
  }
 ],
 "metadata": {
  "language_info": {
   "name": "python"
  },
  "orig_nbformat": 4
 },
 "nbformat": 4,
 "nbformat_minor": 2
}
